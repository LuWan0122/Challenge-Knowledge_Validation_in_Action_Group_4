{
 "cells": [
  {
   "attachments": {},
   "cell_type": "markdown",
   "metadata": {},
   "source": [
    "# Import the libraries"
   ]
  },
  {
   "cell_type": "code",
   "execution_count": 5,
   "metadata": {},
   "outputs": [],
   "source": [
    "from rdflib import Graph, Literal, term, URIRef, RDF\n",
    "from rdflib.namespace import Namespace, NamespaceManager\n",
    "from pyshacl import validate\n",
    "import re\n",
    "import os\n",
    "from rdflib.namespace import Namespace, NamespaceManager"
   ]
  },
  {
   "attachments": {},
   "cell_type": "markdown",
   "metadata": {},
   "source": [
    "# Parse the graph"
   ]
  },
  {
   "attachments": {},
   "cell_type": "markdown",
   "metadata": {},
   "source": [
    "# Brick Example"
   ]
  },
  {
   "cell_type": "code",
   "execution_count": 18,
   "metadata": {},
   "outputs": [
    {
     "name": "stderr",
     "output_type": "stream",
     "text": [
      "Failed to convert Literal lexical form to value. Datatype=http://www.w3.org/2001/XMLSchema#double, Converter=<class 'float'>\n",
      "Traceback (most recent call last):\n",
      "  File \"c:\\Users\\lasit\\Documents\\SoftwarePhD\\Challenge-Knowledge_Validation_in_Action_Group_4\\env\\Lib\\site-packages\\rdflib\\term.py\", line 2084, in _castLexicalToPython\n",
      "    return conv_func(lexical)  # type: ignore[arg-type]\n",
      "           ^^^^^^^^^^^^^^^^^^\n",
      "ValueError: could not convert string to float: '.U.'\n",
      "Failed to convert Literal lexical form to value. Datatype=http://www.w3.org/2001/XMLSchema#double, Converter=<class 'float'>\n",
      "Traceback (most recent call last):\n",
      "  File \"c:\\Users\\lasit\\Documents\\SoftwarePhD\\Challenge-Knowledge_Validation_in_Action_Group_4\\env\\Lib\\site-packages\\rdflib\\term.py\", line 2084, in _castLexicalToPython\n",
      "    return conv_func(lexical)  # type: ignore[arg-type]\n",
      "           ^^^^^^^^^^^^^^^^^^\n",
      "ValueError: could not convert string to float: '.U.'\n",
      "Failed to convert Literal lexical form to value. Datatype=http://www.w3.org/2001/XMLSchema#double, Converter=<class 'float'>\n",
      "Traceback (most recent call last):\n",
      "  File \"c:\\Users\\lasit\\Documents\\SoftwarePhD\\Challenge-Knowledge_Validation_in_Action_Group_4\\env\\Lib\\site-packages\\rdflib\\term.py\", line 2084, in _castLexicalToPython\n",
      "    return conv_func(lexical)  # type: ignore[arg-type]\n",
      "           ^^^^^^^^^^^^^^^^^^\n",
      "ValueError: could not convert string to float: '.U.'\n",
      "Failed to convert Literal lexical form to value. Datatype=http://www.w3.org/2001/XMLSchema#double, Converter=<class 'float'>\n",
      "Traceback (most recent call last):\n",
      "  File \"c:\\Users\\lasit\\Documents\\SoftwarePhD\\Challenge-Knowledge_Validation_in_Action_Group_4\\env\\Lib\\site-packages\\rdflib\\term.py\", line 2084, in _castLexicalToPython\n",
      "    return conv_func(lexical)  # type: ignore[arg-type]\n",
      "           ^^^^^^^^^^^^^^^^^^\n",
      "ValueError: could not convert string to float: '.U.'\n"
     ]
    },
    {
     "data": {
      "text/plain": [
       "<Graph identifier=Nd33f909d7a2245e1a9925b5c925a3dd2 (<class 'rdflib.graph.Graph'>)>"
      ]
     },
     "execution_count": 18,
     "metadata": {},
     "output_type": "execute_result"
    }
   ],
   "source": [
    "# Load the Brick graph\n",
    "brick_graph = Graph()\n",
    "brick_graph.parse(\"InstanceModel/brick_model.ttl\", format=\"turtle\")"
   ]
  },
  {
   "cell_type": "code",
   "execution_count": 19,
   "metadata": {},
   "outputs": [
    {
     "data": {
      "text/plain": [
       "<Graph identifier=N1eaa9a1c59464237aff16d9e4e103dd1 (<class 'rdflib.graph.Graph'>)>"
      ]
     },
     "execution_count": 19,
     "metadata": {},
     "output_type": "execute_result"
    }
   ],
   "source": [
    "# Load the Shape File\n",
    "shapes_file = Graph()\n",
    "shapes_file.parse(\"Shape/brick_model_shape.ttl\", format=\"turtle\")"
   ]
  },
  {
   "cell_type": "code",
   "execution_count": 20,
   "metadata": {},
   "outputs": [
    {
     "name": "stderr",
     "output_type": "stream",
     "text": [
      "Cloning DataGraph to temporary memory graph before pre-inferencing.\n",
      "Running pre-inferencing with option='rdfs'.\n",
      "Found 1 SHACL Shapes defined with type sh:NodeShape.\n",
      "Found 0 SHACL Shapes defined with type sh:PropertyShape.\n",
      "Found 0 property paths to follow.\n",
      "Found 1 implied SHACL Shapes based on their properties.\n",
      "Found 1 implied SHACL Shapes used as values in shape-expecting constraints.\n",
      "Cached 1 unique NodeShapes and 1 unique PropertyShapes.\n",
      "Will run validation on 1 named graph/s.\n",
      "Validating DataGraph named N9ff3897ea5044b6c8ff743e8711f8792\n",
      "Checking if Shape <NodeShape http://linkedbuildingdata.net/ifc/resources20201208_005325/VAVShape> defines its own targets.\n",
      "Identifying targets to find focus nodes.\n",
      "Milliseconds to find focus nodes: 0.055ms\n",
      "Found 1 Focus Nodes to evaluate.\n",
      "Running evaluation of Shape <NodeShape http://linkedbuildingdata.net/ifc/resources20201208_005325/VAVShape>\n",
      "Current shape evaluation path: <NodeShape http://linkedbuildingdata.net/ifc/resources20201208_005325/VAVShape>\n",
      "Checking conformance for constraint: <PropertyConstraintComponent on <NodeShape http://linkedbuildingdata.net/ifc/resources20201208_005325/VAVShape>>\n",
      "Current constraint evaluation path: <NodeShape http://linkedbuildingdata.net/ifc/resources20201208_005325/VAVShape> -> <PropertyConstraintComponent on <NodeShape http://linkedbuildingdata.net/ifc/resources20201208_005325/VAVShape>>\n",
      "Running evaluation of Shape <PropertyShape n1b9d0bd02e1a440e828b7c4a8e8cd3d6b1>\n",
      "Shape was passed 1 Focus Node/s to evaluate.\n",
      "Current shape evaluation path: <NodeShape http://linkedbuildingdata.net/ifc/resources20201208_005325/VAVShape> -> <PropertyConstraintComponent on <NodeShape http://linkedbuildingdata.net/ifc/resources20201208_005325/VAVShape>> -> <PropertyShape n1b9d0bd02e1a440e828b7c4a8e8cd3d6b1>\n",
      "Checking conformance for constraint: <MinCountConstraintComponent on <PropertyShape n1b9d0bd02e1a440e828b7c4a8e8cd3d6b1>>\n",
      "Current constraint evaluation path: <NodeShape http://linkedbuildingdata.net/ifc/resources20201208_005325/VAVShape> -> <PropertyConstraintComponent on <NodeShape http://linkedbuildingdata.net/ifc/resources20201208_005325/VAVShape>> -> <PropertyShape n1b9d0bd02e1a440e828b7c4a8e8cd3d6b1> -> <MinCountConstraintComponent on <PropertyShape n1b9d0bd02e1a440e828b7c4a8e8cd3d6b1>>\n",
      "Milliseconds to check constraint <MinCountConstraintComponent on <PropertyShape n1b9d0bd02e1a440e828b7c4a8e8cd3d6b1>>: 0.304ms\n",
      "DataGraph conforms to constraint <MinCountConstraintComponent on <PropertyShape n1b9d0bd02e1a440e828b7c4a8e8cd3d6b1>>.\n",
      "Milliseconds to evaluate shape <PropertyShape n1b9d0bd02e1a440e828b7c4a8e8cd3d6b1>: 1.495ms\n",
      "Milliseconds to check constraint <PropertyConstraintComponent on <NodeShape http://linkedbuildingdata.net/ifc/resources20201208_005325/VAVShape>>: 2.672ms\n",
      "DataGraph conforms to constraint <PropertyConstraintComponent on <NodeShape http://linkedbuildingdata.net/ifc/resources20201208_005325/VAVShape>>.\n",
      "Milliseconds to evaluate shape <NodeShape http://linkedbuildingdata.net/ifc/resources20201208_005325/VAVShape>: 3.918ms\n",
      "Checking if Shape <PropertyShape n1b9d0bd02e1a440e828b7c4a8e8cd3d6b1> defines its own targets.\n",
      "Identifying targets to find focus nodes.\n",
      "Milliseconds to find focus nodes: 0.030ms\n",
      "Found 0 Focus Nodes to evaluate.\n",
      "Skipping shape <PropertyShape n1b9d0bd02e1a440e828b7c4a8e8cd3d6b1> because it found no focus nodes.\n"
     ]
    }
   ],
   "source": [
    "shapes_file_format = 'turtle'\n",
    "data_file_format = 'turtle'\n",
    "data_file = brick_graph\n",
    "\n",
    "conforms, v_graph, v_text = validate(data_file, shacl_graph = shapes_file,\n",
    "                                     data_graph_format = data_file_format,\n",
    "                                     shacl_graph_format = shapes_file_format,\n",
    "                                     inference='rdfs', debug=True,\n",
    "                                     serialize_report_graph=True)\n",
    "\n"
   ]
  },
  {
   "cell_type": "code",
   "execution_count": 21,
   "metadata": {},
   "outputs": [
    {
     "name": "stdout",
     "output_type": "stream",
     "text": [
      "****************************Conforms******************************************\n",
      "True\n",
      "****************************V_graph******************************************\n",
      "b'@prefix sh: <http://www.w3.org/ns/shacl#> .\\n@prefix xsd: <http://www.w3.org/2001/XMLSchema#> .\\n\\n[] a sh:ValidationReport ;\\n    sh:conforms true .\\n\\n'\n",
      "****************************V_text******************************************\n",
      "Validation Report\n",
      "Conforms: True\n",
      "\n"
     ]
    }
   ],
   "source": [
    "print('****************************{0}******************************************'.format(\"Conforms\"))\n",
    "print(conforms)\n",
    "print('****************************{0}******************************************'.format(\"V_graph\"))\n",
    "print(v_graph)\n",
    "print('****************************{0}******************************************'.format(\"V_text\"))\n",
    "print(v_text)"
   ]
  },
  {
   "cell_type": "code",
   "execution_count": 22,
   "metadata": {},
   "outputs": [],
   "source": [
    "fpath = fpath.replace('.ttl','_SHACL_validation_report.ttl')\n",
    "with open(fpath, 'wb') as f:\n",
    "    f.write(v_graph)"
   ]
  },
  {
   "cell_type": "code",
   "execution_count": null,
   "metadata": {},
   "outputs": [],
   "source": [
    "# Perform the validation\n",
    "results = pyshacl.validate(data_graph=brick_graph,\n",
    "                           shacl_graph=shape_graph,\n",
    "                           ont_graph=None,\n",
    "                           inference='rdfs',\n",
    "                           debug=True,\n",
    "                           serialize_report_graph=True)\n",
    "\n",
    "# Generate the validation report\n",
    "report_graph = results[0]\n",
    "# report_graph.serialize(destination=\"validation_report.ttl\", format=\"turtle\")\n"
   ]
  },
  {
   "attachments": {},
   "cell_type": "markdown",
   "metadata": {},
   "source": [
    "## Parse the graph in memory"
   ]
  },
  {
   "cell_type": "code",
   "execution_count": 11,
   "metadata": {},
   "outputs": [
    {
     "data": {
      "text/plain": [
       "<Graph identifier=N5b2329b5b3a3455292f7d3935f7cbcde (<class 'rdflib.graph.Graph'>)>"
      ]
     },
     "execution_count": 11,
     "metadata": {},
     "output_type": "execute_result"
    }
   ],
   "source": [
    "#file path to the instance model \n",
    "InstanceModel=Graph()\n",
    "fpath = r'InstanceModel/duplex.ttl'\n",
    "InstanceModel.parse(fpath,format=\"turtle\")"
   ]
  },
  {
   "attachments": {},
   "cell_type": "markdown",
   "metadata": {},
   "source": [
    "## Bind the name spaces"
   ]
  },
  {
   "cell_type": "code",
   "execution_count": 12,
   "metadata": {},
   "outputs": [],
   "source": [
    "def bindingNameSpaces(g):\n",
    "    namespace_manager=NamespaceManager(Graph())\n",
    "    #User defined namespaces\n",
    "    INST = Namespace(\"http://consolidproject.org/models/duplex/\" )\n",
    "\n",
    "    #Namespaces for public available ontologies\n",
    "    #Unstable namespaces\n",
    "    BRICK=Namespace(\"https://brickschema.org/schema/Brick#\")\n",
    "    TAG=Namespace(\"https://brickschema.org/schema/BrickTag#\")\n",
    "    \n",
    "    #Stable namespaces\n",
    "    BOT = Namespace(\"https://w3id.org/bot#\")\n",
    "    FSO = Namespace(\"https://w3id.org/fso#\")\n",
    "    QUDT = Namespace(\"http://qudt.org/schema/qudt/\")\n",
    "    SOSA = Namespace(\"http://www.w3.org/ns/sosa/\")\n",
    "    QuantityKind = Namespace(\"http://qudt.org/vocab/quantitykind/\")\n",
    "    RDF = Namespace(\"http://www.w3.org/1999/02/22-rdf-syntax-ns#\")\n",
    "    RDFS = Namespace(\"http://www.w3.org/2000/01/rdf-schema#\")\n",
    "    SSN = Namespace(\"http://www.w3.org/ns/ssn/\")\n",
    "    GEO = Namespace(\"http://www.w3.org/2003/01/geo/wgs84_pos#\")\n",
    "    UNIT = Namespace(\"http://qudt.org/vocab/unit/\")\n",
    "    PROPS = Namespace(\"https://w3id.org/props#\")\n",
    "\n",
    "    namespace_manager.bind(\"fso\",FSO)\n",
    "    namespace_manager.bind(\"sosa\",SOSA)\n",
    "    namespace_manager.bind(\"ssn\",SSN)\n",
    "    namespace_manager.bind(\"rdf\",RDF)\n",
    "    namespace_manager.bind(\"rdfs\",RDFS)\n",
    "    namespace_manager.bind(\"bot\",BOT)\n",
    "    namespace_manager.bind(\"tag\",TAG)\n",
    "    namespace_manager.bind(\"qudt\",QUDT)\n",
    "    namespace_manager.bind(\"quantitykind\",QuantityKind)\n",
    "    namespace_manager.bind(\"inst\",INST)"
   ]
  },
  {
   "cell_type": "code",
   "execution_count": 13,
   "metadata": {},
   "outputs": [],
   "source": [
    "#Bind the namespace\n",
    "bindingNameSpaces(InstanceModel)"
   ]
  },
  {
   "cell_type": "code",
   "execution_count": null,
   "metadata": {},
   "outputs": [],
   "source": []
  },
  {
   "attachments": {},
   "cell_type": "markdown",
   "metadata": {},
   "source": [
    "# Run a Sparql query"
   ]
  },
  {
   "cell_type": "code",
   "execution_count": null,
   "metadata": {},
   "outputs": [],
   "source": [
    "#A simple query as an example\n",
    "g = InstanceModel\n",
    "qres=g.query(\n",
    "'''\n",
    "SELECT DISTINCT ?ele ?id\n",
    "WHERE\n",
    "{\n",
    "\t?ele a bot:Element;\n",
    "\t\t props:batid ?id.\n",
    "} \n",
    "''')\n",
    "for eleURI, eleID in qres:\n",
    "\tele = g.namespace_manager.compute_qname(eleURI)[2]\n",
    "\tidBot = g.namespace_manager.compute_qname(eleID)[2]\n",
    "\tprint('{0} has ID {1}'.format(ele,idBot))\n"
   ]
  },
  {
   "attachments": {},
   "cell_type": "markdown",
   "metadata": {},
   "source": [
    "# Run SCHACL validation"
   ]
  },
  {
   "cell_type": "code",
   "execution_count": 16,
   "metadata": {},
   "outputs": [
    {
     "name": "stderr",
     "output_type": "stream",
     "text": [
      "Cloning DataGraph to temporary memory graph before pre-inferencing.\n",
      "Running pre-inferencing with option='rdfs'.\n",
      "Found 1 SHACL Shapes defined with type sh:NodeShape.\n",
      "Found 0 SHACL Shapes defined with type sh:PropertyShape.\n",
      "Found 0 property paths to follow.\n",
      "Found 1 implied SHACL Shapes based on their properties.\n",
      "Found 1 implied SHACL Shapes used as values in shape-expecting constraints.\n",
      "Cached 1 unique NodeShapes and 1 unique PropertyShapes.\n",
      "Will run validation on 1 named graph/s.\n",
      "Validating DataGraph named N3607bd5deddd443c884c3f6a947faf79\n",
      "Checking if Shape <NodeShape http://schema.org/SpaceShape> defines its own targets.\n",
      "Identifying targets to find focus nodes.\n",
      "Milliseconds to find focus nodes: 0.482ms\n",
      "Found 21 Focus Nodes to evaluate.\n",
      "Running evaluation of Shape <NodeShape http://schema.org/SpaceShape>\n",
      "Current shape evaluation path: <NodeShape http://schema.org/SpaceShape>\n",
      "Checking conformance for constraint: <PropertyConstraintComponent on <NodeShape http://schema.org/SpaceShape>>\n",
      "Current constraint evaluation path: <NodeShape http://schema.org/SpaceShape> -> <PropertyConstraintComponent on <NodeShape http://schema.org/SpaceShape>>\n",
      "Running evaluation of Shape <PropertyShape n175be8fd5d47429face3dbbc4d9eb63ab1>\n",
      "Shape was passed 1 Focus Node/s to evaluate.\n",
      "Current shape evaluation path: <NodeShape http://schema.org/SpaceShape> -> <PropertyConstraintComponent on <NodeShape http://schema.org/SpaceShape>> -> <PropertyShape n175be8fd5d47429face3dbbc4d9eb63ab1>\n",
      "Checking conformance for constraint: <MinCountConstraintComponent on <PropertyShape n175be8fd5d47429face3dbbc4d9eb63ab1>>\n",
      "Current constraint evaluation path: <NodeShape http://schema.org/SpaceShape> -> <PropertyConstraintComponent on <NodeShape http://schema.org/SpaceShape>> -> <PropertyShape n175be8fd5d47429face3dbbc4d9eb63ab1> -> <MinCountConstraintComponent on <PropertyShape n175be8fd5d47429face3dbbc4d9eb63ab1>>\n",
      "Milliseconds to check constraint <MinCountConstraintComponent on <PropertyShape n175be8fd5d47429face3dbbc4d9eb63ab1>>: 2.365ms\n",
      "DataGraph conforms to constraint <MinCountConstraintComponent on <PropertyShape n175be8fd5d47429face3dbbc4d9eb63ab1>>.\n",
      "Milliseconds to evaluate shape <PropertyShape n175be8fd5d47429face3dbbc4d9eb63ab1>: 13.750ms\n",
      "Running evaluation of Shape <PropertyShape n175be8fd5d47429face3dbbc4d9eb63ab1>\n",
      "Shape was passed 1 Focus Node/s to evaluate.\n",
      "Current shape evaluation path: <NodeShape http://schema.org/SpaceShape> -> <PropertyConstraintComponent on <NodeShape http://schema.org/SpaceShape>> -> <PropertyShape n175be8fd5d47429face3dbbc4d9eb63ab1>\n",
      "Checking conformance for constraint: <MinCountConstraintComponent on <PropertyShape n175be8fd5d47429face3dbbc4d9eb63ab1>>\n",
      "Current constraint evaluation path: <NodeShape http://schema.org/SpaceShape> -> <PropertyConstraintComponent on <NodeShape http://schema.org/SpaceShape>> -> <PropertyShape n175be8fd5d47429face3dbbc4d9eb63ab1> -> <MinCountConstraintComponent on <PropertyShape n175be8fd5d47429face3dbbc4d9eb63ab1>>\n",
      "Milliseconds to check constraint <MinCountConstraintComponent on <PropertyShape n175be8fd5d47429face3dbbc4d9eb63ab1>>: 1.675ms\n",
      "DataGraph conforms to constraint <MinCountConstraintComponent on <PropertyShape n175be8fd5d47429face3dbbc4d9eb63ab1>>.\n",
      "Milliseconds to evaluate shape <PropertyShape n175be8fd5d47429face3dbbc4d9eb63ab1>: 11.525ms\n",
      "Running evaluation of Shape <PropertyShape n175be8fd5d47429face3dbbc4d9eb63ab1>\n",
      "Shape was passed 1 Focus Node/s to evaluate.\n",
      "Current shape evaluation path: <NodeShape http://schema.org/SpaceShape> -> <PropertyConstraintComponent on <NodeShape http://schema.org/SpaceShape>> -> <PropertyShape n175be8fd5d47429face3dbbc4d9eb63ab1>\n",
      "Checking conformance for constraint: <MinCountConstraintComponent on <PropertyShape n175be8fd5d47429face3dbbc4d9eb63ab1>>\n",
      "Current constraint evaluation path: <NodeShape http://schema.org/SpaceShape> -> <PropertyConstraintComponent on <NodeShape http://schema.org/SpaceShape>> -> <PropertyShape n175be8fd5d47429face3dbbc4d9eb63ab1> -> <MinCountConstraintComponent on <PropertyShape n175be8fd5d47429face3dbbc4d9eb63ab1>>\n",
      "Milliseconds to check constraint <MinCountConstraintComponent on <PropertyShape n175be8fd5d47429face3dbbc4d9eb63ab1>>: 6.349ms\n",
      "DataGraph conforms to constraint <MinCountConstraintComponent on <PropertyShape n175be8fd5d47429face3dbbc4d9eb63ab1>>.\n",
      "Milliseconds to evaluate shape <PropertyShape n175be8fd5d47429face3dbbc4d9eb63ab1>: 21.873ms\n",
      "Running evaluation of Shape <PropertyShape n175be8fd5d47429face3dbbc4d9eb63ab1>\n",
      "Shape was passed 1 Focus Node/s to evaluate.\n",
      "Current shape evaluation path: <NodeShape http://schema.org/SpaceShape> -> <PropertyConstraintComponent on <NodeShape http://schema.org/SpaceShape>> -> <PropertyShape n175be8fd5d47429face3dbbc4d9eb63ab1>\n",
      "Checking conformance for constraint: <MinCountConstraintComponent on <PropertyShape n175be8fd5d47429face3dbbc4d9eb63ab1>>\n",
      "Current constraint evaluation path: <NodeShape http://schema.org/SpaceShape> -> <PropertyConstraintComponent on <NodeShape http://schema.org/SpaceShape>> -> <PropertyShape n175be8fd5d47429face3dbbc4d9eb63ab1> -> <MinCountConstraintComponent on <PropertyShape n175be8fd5d47429face3dbbc4d9eb63ab1>>\n",
      "Milliseconds to check constraint <MinCountConstraintComponent on <PropertyShape n175be8fd5d47429face3dbbc4d9eb63ab1>>: 4.047ms\n",
      "Focus nodes do _not_ conform to constraint <MinCountConstraintComponent on <PropertyShape n175be8fd5d47429face3dbbc4d9eb63ab1>>.\n",
      "Milliseconds to evaluate shape <PropertyShape n175be8fd5d47429face3dbbc4d9eb63ab1>: 14.752ms\n",
      "Running evaluation of Shape <PropertyShape n175be8fd5d47429face3dbbc4d9eb63ab1>\n",
      "Shape was passed 1 Focus Node/s to evaluate.\n",
      "Current shape evaluation path: <NodeShape http://schema.org/SpaceShape> -> <PropertyConstraintComponent on <NodeShape http://schema.org/SpaceShape>> -> <PropertyShape n175be8fd5d47429face3dbbc4d9eb63ab1>\n",
      "Checking conformance for constraint: <MinCountConstraintComponent on <PropertyShape n175be8fd5d47429face3dbbc4d9eb63ab1>>\n",
      "Current constraint evaluation path: <NodeShape http://schema.org/SpaceShape> -> <PropertyConstraintComponent on <NodeShape http://schema.org/SpaceShape>> -> <PropertyShape n175be8fd5d47429face3dbbc4d9eb63ab1> -> <MinCountConstraintComponent on <PropertyShape n175be8fd5d47429face3dbbc4d9eb63ab1>>\n",
      "Milliseconds to check constraint <MinCountConstraintComponent on <PropertyShape n175be8fd5d47429face3dbbc4d9eb63ab1>>: 2.073ms\n",
      "DataGraph conforms to constraint <MinCountConstraintComponent on <PropertyShape n175be8fd5d47429face3dbbc4d9eb63ab1>>.\n",
      "Milliseconds to evaluate shape <PropertyShape n175be8fd5d47429face3dbbc4d9eb63ab1>: 11.152ms\n",
      "Running evaluation of Shape <PropertyShape n175be8fd5d47429face3dbbc4d9eb63ab1>\n",
      "Shape was passed 1 Focus Node/s to evaluate.\n",
      "Current shape evaluation path: <NodeShape http://schema.org/SpaceShape> -> <PropertyConstraintComponent on <NodeShape http://schema.org/SpaceShape>> -> <PropertyShape n175be8fd5d47429face3dbbc4d9eb63ab1>\n",
      "Checking conformance for constraint: <MinCountConstraintComponent on <PropertyShape n175be8fd5d47429face3dbbc4d9eb63ab1>>\n",
      "Current constraint evaluation path: <NodeShape http://schema.org/SpaceShape> -> <PropertyConstraintComponent on <NodeShape http://schema.org/SpaceShape>> -> <PropertyShape n175be8fd5d47429face3dbbc4d9eb63ab1> -> <MinCountConstraintComponent on <PropertyShape n175be8fd5d47429face3dbbc4d9eb63ab1>>\n",
      "Milliseconds to check constraint <MinCountConstraintComponent on <PropertyShape n175be8fd5d47429face3dbbc4d9eb63ab1>>: 1.852ms\n",
      "DataGraph conforms to constraint <MinCountConstraintComponent on <PropertyShape n175be8fd5d47429face3dbbc4d9eb63ab1>>.\n",
      "Milliseconds to evaluate shape <PropertyShape n175be8fd5d47429face3dbbc4d9eb63ab1>: 13.416ms\n",
      "Running evaluation of Shape <PropertyShape n175be8fd5d47429face3dbbc4d9eb63ab1>\n",
      "Shape was passed 1 Focus Node/s to evaluate.\n",
      "Current shape evaluation path: <NodeShape http://schema.org/SpaceShape> -> <PropertyConstraintComponent on <NodeShape http://schema.org/SpaceShape>> -> <PropertyShape n175be8fd5d47429face3dbbc4d9eb63ab1>\n",
      "Checking conformance for constraint: <MinCountConstraintComponent on <PropertyShape n175be8fd5d47429face3dbbc4d9eb63ab1>>\n",
      "Current constraint evaluation path: <NodeShape http://schema.org/SpaceShape> -> <PropertyConstraintComponent on <NodeShape http://schema.org/SpaceShape>> -> <PropertyShape n175be8fd5d47429face3dbbc4d9eb63ab1> -> <MinCountConstraintComponent on <PropertyShape n175be8fd5d47429face3dbbc4d9eb63ab1>>\n",
      "Milliseconds to check constraint <MinCountConstraintComponent on <PropertyShape n175be8fd5d47429face3dbbc4d9eb63ab1>>: 3.545ms\n",
      "DataGraph conforms to constraint <MinCountConstraintComponent on <PropertyShape n175be8fd5d47429face3dbbc4d9eb63ab1>>.\n",
      "Milliseconds to evaluate shape <PropertyShape n175be8fd5d47429face3dbbc4d9eb63ab1>: 14.089ms\n",
      "Running evaluation of Shape <PropertyShape n175be8fd5d47429face3dbbc4d9eb63ab1>\n",
      "Shape was passed 1 Focus Node/s to evaluate.\n",
      "Current shape evaluation path: <NodeShape http://schema.org/SpaceShape> -> <PropertyConstraintComponent on <NodeShape http://schema.org/SpaceShape>> -> <PropertyShape n175be8fd5d47429face3dbbc4d9eb63ab1>\n",
      "Checking conformance for constraint: <MinCountConstraintComponent on <PropertyShape n175be8fd5d47429face3dbbc4d9eb63ab1>>\n",
      "Current constraint evaluation path: <NodeShape http://schema.org/SpaceShape> -> <PropertyConstraintComponent on <NodeShape http://schema.org/SpaceShape>> -> <PropertyShape n175be8fd5d47429face3dbbc4d9eb63ab1> -> <MinCountConstraintComponent on <PropertyShape n175be8fd5d47429face3dbbc4d9eb63ab1>>\n",
      "Milliseconds to check constraint <MinCountConstraintComponent on <PropertyShape n175be8fd5d47429face3dbbc4d9eb63ab1>>: 4.050ms\n",
      "Focus nodes do _not_ conform to constraint <MinCountConstraintComponent on <PropertyShape n175be8fd5d47429face3dbbc4d9eb63ab1>>.\n",
      "Milliseconds to evaluate shape <PropertyShape n175be8fd5d47429face3dbbc4d9eb63ab1>: 14.278ms\n",
      "Running evaluation of Shape <PropertyShape n175be8fd5d47429face3dbbc4d9eb63ab1>\n",
      "Shape was passed 1 Focus Node/s to evaluate.\n",
      "Current shape evaluation path: <NodeShape http://schema.org/SpaceShape> -> <PropertyConstraintComponent on <NodeShape http://schema.org/SpaceShape>> -> <PropertyShape n175be8fd5d47429face3dbbc4d9eb63ab1>\n",
      "Checking conformance for constraint: <MinCountConstraintComponent on <PropertyShape n175be8fd5d47429face3dbbc4d9eb63ab1>>\n",
      "Current constraint evaluation path: <NodeShape http://schema.org/SpaceShape> -> <PropertyConstraintComponent on <NodeShape http://schema.org/SpaceShape>> -> <PropertyShape n175be8fd5d47429face3dbbc4d9eb63ab1> -> <MinCountConstraintComponent on <PropertyShape n175be8fd5d47429face3dbbc4d9eb63ab1>>\n",
      "Milliseconds to check constraint <MinCountConstraintComponent on <PropertyShape n175be8fd5d47429face3dbbc4d9eb63ab1>>: 3.692ms\n",
      "DataGraph conforms to constraint <MinCountConstraintComponent on <PropertyShape n175be8fd5d47429face3dbbc4d9eb63ab1>>.\n",
      "Milliseconds to evaluate shape <PropertyShape n175be8fd5d47429face3dbbc4d9eb63ab1>: 17.099ms\n",
      "Running evaluation of Shape <PropertyShape n175be8fd5d47429face3dbbc4d9eb63ab1>\n",
      "Shape was passed 1 Focus Node/s to evaluate.\n",
      "Current shape evaluation path: <NodeShape http://schema.org/SpaceShape> -> <PropertyConstraintComponent on <NodeShape http://schema.org/SpaceShape>> -> <PropertyShape n175be8fd5d47429face3dbbc4d9eb63ab1>\n",
      "Checking conformance for constraint: <MinCountConstraintComponent on <PropertyShape n175be8fd5d47429face3dbbc4d9eb63ab1>>\n",
      "Current constraint evaluation path: <NodeShape http://schema.org/SpaceShape> -> <PropertyConstraintComponent on <NodeShape http://schema.org/SpaceShape>> -> <PropertyShape n175be8fd5d47429face3dbbc4d9eb63ab1> -> <MinCountConstraintComponent on <PropertyShape n175be8fd5d47429face3dbbc4d9eb63ab1>>\n",
      "Milliseconds to check constraint <MinCountConstraintComponent on <PropertyShape n175be8fd5d47429face3dbbc4d9eb63ab1>>: 4.323ms\n",
      "Focus nodes do _not_ conform to constraint <MinCountConstraintComponent on <PropertyShape n175be8fd5d47429face3dbbc4d9eb63ab1>>.\n",
      "Milliseconds to evaluate shape <PropertyShape n175be8fd5d47429face3dbbc4d9eb63ab1>: 14.765ms\n",
      "Running evaluation of Shape <PropertyShape n175be8fd5d47429face3dbbc4d9eb63ab1>\n",
      "Shape was passed 1 Focus Node/s to evaluate.\n",
      "Current shape evaluation path: <NodeShape http://schema.org/SpaceShape> -> <PropertyConstraintComponent on <NodeShape http://schema.org/SpaceShape>> -> <PropertyShape n175be8fd5d47429face3dbbc4d9eb63ab1>\n",
      "Checking conformance for constraint: <MinCountConstraintComponent on <PropertyShape n175be8fd5d47429face3dbbc4d9eb63ab1>>\n",
      "Current constraint evaluation path: <NodeShape http://schema.org/SpaceShape> -> <PropertyConstraintComponent on <NodeShape http://schema.org/SpaceShape>> -> <PropertyShape n175be8fd5d47429face3dbbc4d9eb63ab1> -> <MinCountConstraintComponent on <PropertyShape n175be8fd5d47429face3dbbc4d9eb63ab1>>\n",
      "Milliseconds to check constraint <MinCountConstraintComponent on <PropertyShape n175be8fd5d47429face3dbbc4d9eb63ab1>>: 3.274ms\n",
      "Focus nodes do _not_ conform to constraint <MinCountConstraintComponent on <PropertyShape n175be8fd5d47429face3dbbc4d9eb63ab1>>.\n",
      "Milliseconds to evaluate shape <PropertyShape n175be8fd5d47429face3dbbc4d9eb63ab1>: 13.544ms\n",
      "Running evaluation of Shape <PropertyShape n175be8fd5d47429face3dbbc4d9eb63ab1>\n",
      "Shape was passed 1 Focus Node/s to evaluate.\n",
      "Current shape evaluation path: <NodeShape http://schema.org/SpaceShape> -> <PropertyConstraintComponent on <NodeShape http://schema.org/SpaceShape>> -> <PropertyShape n175be8fd5d47429face3dbbc4d9eb63ab1>\n",
      "Checking conformance for constraint: <MinCountConstraintComponent on <PropertyShape n175be8fd5d47429face3dbbc4d9eb63ab1>>\n",
      "Current constraint evaluation path: <NodeShape http://schema.org/SpaceShape> -> <PropertyConstraintComponent on <NodeShape http://schema.org/SpaceShape>> -> <PropertyShape n175be8fd5d47429face3dbbc4d9eb63ab1> -> <MinCountConstraintComponent on <PropertyShape n175be8fd5d47429face3dbbc4d9eb63ab1>>\n",
      "Milliseconds to check constraint <MinCountConstraintComponent on <PropertyShape n175be8fd5d47429face3dbbc4d9eb63ab1>>: 4.322ms\n",
      "Focus nodes do _not_ conform to constraint <MinCountConstraintComponent on <PropertyShape n175be8fd5d47429face3dbbc4d9eb63ab1>>.\n",
      "Milliseconds to evaluate shape <PropertyShape n175be8fd5d47429face3dbbc4d9eb63ab1>: 14.877ms\n",
      "Running evaluation of Shape <PropertyShape n175be8fd5d47429face3dbbc4d9eb63ab1>\n",
      "Shape was passed 1 Focus Node/s to evaluate.\n",
      "Current shape evaluation path: <NodeShape http://schema.org/SpaceShape> -> <PropertyConstraintComponent on <NodeShape http://schema.org/SpaceShape>> -> <PropertyShape n175be8fd5d47429face3dbbc4d9eb63ab1>\n",
      "Checking conformance for constraint: <MinCountConstraintComponent on <PropertyShape n175be8fd5d47429face3dbbc4d9eb63ab1>>\n",
      "Current constraint evaluation path: <NodeShape http://schema.org/SpaceShape> -> <PropertyConstraintComponent on <NodeShape http://schema.org/SpaceShape>> -> <PropertyShape n175be8fd5d47429face3dbbc4d9eb63ab1> -> <MinCountConstraintComponent on <PropertyShape n175be8fd5d47429face3dbbc4d9eb63ab1>>\n",
      "Milliseconds to check constraint <MinCountConstraintComponent on <PropertyShape n175be8fd5d47429face3dbbc4d9eb63ab1>>: 2.775ms\n",
      "DataGraph conforms to constraint <MinCountConstraintComponent on <PropertyShape n175be8fd5d47429face3dbbc4d9eb63ab1>>.\n",
      "Milliseconds to evaluate shape <PropertyShape n175be8fd5d47429face3dbbc4d9eb63ab1>: 13.277ms\n",
      "Running evaluation of Shape <PropertyShape n175be8fd5d47429face3dbbc4d9eb63ab1>\n",
      "Shape was passed 1 Focus Node/s to evaluate.\n",
      "Current shape evaluation path: <NodeShape http://schema.org/SpaceShape> -> <PropertyConstraintComponent on <NodeShape http://schema.org/SpaceShape>> -> <PropertyShape n175be8fd5d47429face3dbbc4d9eb63ab1>\n",
      "Checking conformance for constraint: <MinCountConstraintComponent on <PropertyShape n175be8fd5d47429face3dbbc4d9eb63ab1>>\n",
      "Current constraint evaluation path: <NodeShape http://schema.org/SpaceShape> -> <PropertyConstraintComponent on <NodeShape http://schema.org/SpaceShape>> -> <PropertyShape n175be8fd5d47429face3dbbc4d9eb63ab1> -> <MinCountConstraintComponent on <PropertyShape n175be8fd5d47429face3dbbc4d9eb63ab1>>\n",
      "Milliseconds to check constraint <MinCountConstraintComponent on <PropertyShape n175be8fd5d47429face3dbbc4d9eb63ab1>>: 5.574ms\n",
      "Focus nodes do _not_ conform to constraint <MinCountConstraintComponent on <PropertyShape n175be8fd5d47429face3dbbc4d9eb63ab1>>.\n",
      "Milliseconds to evaluate shape <PropertyShape n175be8fd5d47429face3dbbc4d9eb63ab1>: 16.649ms\n",
      "Running evaluation of Shape <PropertyShape n175be8fd5d47429face3dbbc4d9eb63ab1>\n",
      "Shape was passed 1 Focus Node/s to evaluate.\n",
      "Current shape evaluation path: <NodeShape http://schema.org/SpaceShape> -> <PropertyConstraintComponent on <NodeShape http://schema.org/SpaceShape>> -> <PropertyShape n175be8fd5d47429face3dbbc4d9eb63ab1>\n",
      "Checking conformance for constraint: <MinCountConstraintComponent on <PropertyShape n175be8fd5d47429face3dbbc4d9eb63ab1>>\n",
      "Current constraint evaluation path: <NodeShape http://schema.org/SpaceShape> -> <PropertyConstraintComponent on <NodeShape http://schema.org/SpaceShape>> -> <PropertyShape n175be8fd5d47429face3dbbc4d9eb63ab1> -> <MinCountConstraintComponent on <PropertyShape n175be8fd5d47429face3dbbc4d9eb63ab1>>\n",
      "Milliseconds to check constraint <MinCountConstraintComponent on <PropertyShape n175be8fd5d47429face3dbbc4d9eb63ab1>>: 3.471ms\n",
      "DataGraph conforms to constraint <MinCountConstraintComponent on <PropertyShape n175be8fd5d47429face3dbbc4d9eb63ab1>>.\n",
      "Milliseconds to evaluate shape <PropertyShape n175be8fd5d47429face3dbbc4d9eb63ab1>: 28.370ms\n",
      "Running evaluation of Shape <PropertyShape n175be8fd5d47429face3dbbc4d9eb63ab1>\n",
      "Shape was passed 1 Focus Node/s to evaluate.\n",
      "Current shape evaluation path: <NodeShape http://schema.org/SpaceShape> -> <PropertyConstraintComponent on <NodeShape http://schema.org/SpaceShape>> -> <PropertyShape n175be8fd5d47429face3dbbc4d9eb63ab1>\n",
      "Checking conformance for constraint: <MinCountConstraintComponent on <PropertyShape n175be8fd5d47429face3dbbc4d9eb63ab1>>\n",
      "Current constraint evaluation path: <NodeShape http://schema.org/SpaceShape> -> <PropertyConstraintComponent on <NodeShape http://schema.org/SpaceShape>> -> <PropertyShape n175be8fd5d47429face3dbbc4d9eb63ab1> -> <MinCountConstraintComponent on <PropertyShape n175be8fd5d47429face3dbbc4d9eb63ab1>>\n",
      "Milliseconds to check constraint <MinCountConstraintComponent on <PropertyShape n175be8fd5d47429face3dbbc4d9eb63ab1>>: 2.922ms\n",
      "DataGraph conforms to constraint <MinCountConstraintComponent on <PropertyShape n175be8fd5d47429face3dbbc4d9eb63ab1>>.\n",
      "Milliseconds to evaluate shape <PropertyShape n175be8fd5d47429face3dbbc4d9eb63ab1>: 15.861ms\n",
      "Running evaluation of Shape <PropertyShape n175be8fd5d47429face3dbbc4d9eb63ab1>\n",
      "Shape was passed 1 Focus Node/s to evaluate.\n",
      "Current shape evaluation path: <NodeShape http://schema.org/SpaceShape> -> <PropertyConstraintComponent on <NodeShape http://schema.org/SpaceShape>> -> <PropertyShape n175be8fd5d47429face3dbbc4d9eb63ab1>\n",
      "Checking conformance for constraint: <MinCountConstraintComponent on <PropertyShape n175be8fd5d47429face3dbbc4d9eb63ab1>>\n",
      "Current constraint evaluation path: <NodeShape http://schema.org/SpaceShape> -> <PropertyConstraintComponent on <NodeShape http://schema.org/SpaceShape>> -> <PropertyShape n175be8fd5d47429face3dbbc4d9eb63ab1> -> <MinCountConstraintComponent on <PropertyShape n175be8fd5d47429face3dbbc4d9eb63ab1>>\n",
      "Milliseconds to check constraint <MinCountConstraintComponent on <PropertyShape n175be8fd5d47429face3dbbc4d9eb63ab1>>: 2.510ms\n",
      "DataGraph conforms to constraint <MinCountConstraintComponent on <PropertyShape n175be8fd5d47429face3dbbc4d9eb63ab1>>.\n",
      "Milliseconds to evaluate shape <PropertyShape n175be8fd5d47429face3dbbc4d9eb63ab1>: 11.957ms\n",
      "Running evaluation of Shape <PropertyShape n175be8fd5d47429face3dbbc4d9eb63ab1>\n",
      "Shape was passed 1 Focus Node/s to evaluate.\n",
      "Current shape evaluation path: <NodeShape http://schema.org/SpaceShape> -> <PropertyConstraintComponent on <NodeShape http://schema.org/SpaceShape>> -> <PropertyShape n175be8fd5d47429face3dbbc4d9eb63ab1>\n",
      "Checking conformance for constraint: <MinCountConstraintComponent on <PropertyShape n175be8fd5d47429face3dbbc4d9eb63ab1>>\n",
      "Current constraint evaluation path: <NodeShape http://schema.org/SpaceShape> -> <PropertyConstraintComponent on <NodeShape http://schema.org/SpaceShape>> -> <PropertyShape n175be8fd5d47429face3dbbc4d9eb63ab1> -> <MinCountConstraintComponent on <PropertyShape n175be8fd5d47429face3dbbc4d9eb63ab1>>\n",
      "Milliseconds to check constraint <MinCountConstraintComponent on <PropertyShape n175be8fd5d47429face3dbbc4d9eb63ab1>>: 4.759ms\n",
      "Focus nodes do _not_ conform to constraint <MinCountConstraintComponent on <PropertyShape n175be8fd5d47429face3dbbc4d9eb63ab1>>.\n",
      "Milliseconds to evaluate shape <PropertyShape n175be8fd5d47429face3dbbc4d9eb63ab1>: 19.149ms\n",
      "Running evaluation of Shape <PropertyShape n175be8fd5d47429face3dbbc4d9eb63ab1>\n",
      "Shape was passed 1 Focus Node/s to evaluate.\n",
      "Current shape evaluation path: <NodeShape http://schema.org/SpaceShape> -> <PropertyConstraintComponent on <NodeShape http://schema.org/SpaceShape>> -> <PropertyShape n175be8fd5d47429face3dbbc4d9eb63ab1>\n",
      "Checking conformance for constraint: <MinCountConstraintComponent on <PropertyShape n175be8fd5d47429face3dbbc4d9eb63ab1>>\n",
      "Current constraint evaluation path: <NodeShape http://schema.org/SpaceShape> -> <PropertyConstraintComponent on <NodeShape http://schema.org/SpaceShape>> -> <PropertyShape n175be8fd5d47429face3dbbc4d9eb63ab1> -> <MinCountConstraintComponent on <PropertyShape n175be8fd5d47429face3dbbc4d9eb63ab1>>\n",
      "Milliseconds to check constraint <MinCountConstraintComponent on <PropertyShape n175be8fd5d47429face3dbbc4d9eb63ab1>>: 3.348ms\n",
      "Focus nodes do _not_ conform to constraint <MinCountConstraintComponent on <PropertyShape n175be8fd5d47429face3dbbc4d9eb63ab1>>.\n",
      "Milliseconds to evaluate shape <PropertyShape n175be8fd5d47429face3dbbc4d9eb63ab1>: 18.134ms\n",
      "Running evaluation of Shape <PropertyShape n175be8fd5d47429face3dbbc4d9eb63ab1>\n",
      "Shape was passed 1 Focus Node/s to evaluate.\n",
      "Current shape evaluation path: <NodeShape http://schema.org/SpaceShape> -> <PropertyConstraintComponent on <NodeShape http://schema.org/SpaceShape>> -> <PropertyShape n175be8fd5d47429face3dbbc4d9eb63ab1>\n",
      "Checking conformance for constraint: <MinCountConstraintComponent on <PropertyShape n175be8fd5d47429face3dbbc4d9eb63ab1>>\n",
      "Current constraint evaluation path: <NodeShape http://schema.org/SpaceShape> -> <PropertyConstraintComponent on <NodeShape http://schema.org/SpaceShape>> -> <PropertyShape n175be8fd5d47429face3dbbc4d9eb63ab1> -> <MinCountConstraintComponent on <PropertyShape n175be8fd5d47429face3dbbc4d9eb63ab1>>\n",
      "Milliseconds to check constraint <MinCountConstraintComponent on <PropertyShape n175be8fd5d47429face3dbbc4d9eb63ab1>>: 3.115ms\n",
      "DataGraph conforms to constraint <MinCountConstraintComponent on <PropertyShape n175be8fd5d47429face3dbbc4d9eb63ab1>>.\n",
      "Milliseconds to evaluate shape <PropertyShape n175be8fd5d47429face3dbbc4d9eb63ab1>: 13.066ms\n",
      "Running evaluation of Shape <PropertyShape n175be8fd5d47429face3dbbc4d9eb63ab1>\n",
      "Shape was passed 1 Focus Node/s to evaluate.\n",
      "Current shape evaluation path: <NodeShape http://schema.org/SpaceShape> -> <PropertyConstraintComponent on <NodeShape http://schema.org/SpaceShape>> -> <PropertyShape n175be8fd5d47429face3dbbc4d9eb63ab1>\n",
      "Checking conformance for constraint: <MinCountConstraintComponent on <PropertyShape n175be8fd5d47429face3dbbc4d9eb63ab1>>\n",
      "Current constraint evaluation path: <NodeShape http://schema.org/SpaceShape> -> <PropertyConstraintComponent on <NodeShape http://schema.org/SpaceShape>> -> <PropertyShape n175be8fd5d47429face3dbbc4d9eb63ab1> -> <MinCountConstraintComponent on <PropertyShape n175be8fd5d47429face3dbbc4d9eb63ab1>>\n",
      "Milliseconds to check constraint <MinCountConstraintComponent on <PropertyShape n175be8fd5d47429face3dbbc4d9eb63ab1>>: 4.305ms\n",
      "Focus nodes do _not_ conform to constraint <MinCountConstraintComponent on <PropertyShape n175be8fd5d47429face3dbbc4d9eb63ab1>>.\n",
      "Milliseconds to evaluate shape <PropertyShape n175be8fd5d47429face3dbbc4d9eb63ab1>: 12.703ms\n",
      "Milliseconds to check constraint <PropertyConstraintComponent on <NodeShape http://schema.org/SpaceShape>>: 501.300ms\n",
      "Focus nodes do _not_ conform to constraint <PropertyConstraintComponent on <NodeShape http://schema.org/SpaceShape>>.\n",
      "Constraint Violation in MinCountConstraintComponent (http://www.w3.org/ns/shacl#MinCountConstraintComponent):\n",
      "\tSeverity: sh:Violation\n",
      "\tSource Shape: [ sh:minCount Literal(\"1\", datatype=xsd:integer) ; sh:path bot:containsElement ]\n",
      "\tFocus Node: inst:space_40c2d70d-8d3b-49a9-9702-6756a4ee4132\n",
      "\tResult Path: bot:containsElement\n",
      "\tMessage: Less than 1 values on inst:space_40c2d70d-8d3b-49a9-9702-6756a4ee4132->bot:containsElement\n",
      "\n",
      "Constraint Violation in MinCountConstraintComponent (http://www.w3.org/ns/shacl#MinCountConstraintComponent):\n",
      "\tSeverity: sh:Violation\n",
      "\tSource Shape: [ sh:minCount Literal(\"1\", datatype=xsd:integer) ; sh:path bot:containsElement ]\n",
      "\tFocus Node: inst:space_0b74b3fa-1a92-405e-9ac9-d59067bfe0d0\n",
      "\tResult Path: bot:containsElement\n",
      "\tMessage: Less than 1 values on inst:space_0b74b3fa-1a92-405e-9ac9-d59067bfe0d0->bot:containsElement\n",
      "\n",
      "Constraint Violation in MinCountConstraintComponent (http://www.w3.org/ns/shacl#MinCountConstraintComponent):\n",
      "\tSeverity: sh:Violation\n",
      "\tSource Shape: [ sh:minCount Literal(\"1\", datatype=xsd:integer) ; sh:path bot:containsElement ]\n",
      "\tFocus Node: inst:space_335fc1b3-63ca-474d-9c21-6d5abbd83da0\n",
      "\tResult Path: bot:containsElement\n",
      "\tMessage: Less than 1 values on inst:space_335fc1b3-63ca-474d-9c21-6d5abbd83da0->bot:containsElement\n",
      "\n",
      "Constraint Violation in MinCountConstraintComponent (http://www.w3.org/ns/shacl#MinCountConstraintComponent):\n",
      "\tSeverity: sh:Violation\n",
      "\tSource Shape: [ sh:minCount Literal(\"1\", datatype=xsd:integer) ; sh:path bot:containsElement ]\n",
      "\tFocus Node: inst:space_0b74b3fa-1a92-405e-9ac9-d59067be1d75\n",
      "\tResult Path: bot:containsElement\n",
      "\tMessage: Less than 1 values on inst:space_0b74b3fa-1a92-405e-9ac9-d59067be1d75->bot:containsElement\n",
      "\n",
      "Constraint Violation in MinCountConstraintComponent (http://www.w3.org/ns/shacl#MinCountConstraintComponent):\n",
      "\tSeverity: sh:Violation\n",
      "\tSource Shape: [ sh:minCount Literal(\"1\", datatype=xsd:integer) ; sh:path bot:containsElement ]\n",
      "\tFocus Node: inst:space_40c2d70d-8d3b-49a9-9702-6756a4ee40fd\n",
      "\tResult Path: bot:containsElement\n",
      "\tMessage: Less than 1 values on inst:space_40c2d70d-8d3b-49a9-9702-6756a4ee40fd->bot:containsElement\n",
      "\n",
      "Constraint Violation in MinCountConstraintComponent (http://www.w3.org/ns/shacl#MinCountConstraintComponent):\n",
      "\tSeverity: sh:Violation\n",
      "\tSource Shape: [ sh:minCount Literal(\"1\", datatype=xsd:integer) ; sh:path bot:containsElement ]\n",
      "\tFocus Node: inst:space_0b74b3fa-1a92-405e-9ac9-d59067bfe0da\n",
      "\tResult Path: bot:containsElement\n",
      "\tMessage: Less than 1 values on inst:space_0b74b3fa-1a92-405e-9ac9-d59067bfe0da->bot:containsElement\n",
      "\n",
      "Constraint Violation in MinCountConstraintComponent (http://www.w3.org/ns/shacl#MinCountConstraintComponent):\n",
      "\tSeverity: sh:Violation\n",
      "\tSource Shape: [ sh:minCount Literal(\"1\", datatype=xsd:integer) ; sh:path bot:containsElement ]\n",
      "\tFocus Node: inst:space_aa6e13ea-b5bc-4245-93bf-8b23558433df\n",
      "\tResult Path: bot:containsElement\n",
      "\tMessage: Less than 1 values on inst:space_aa6e13ea-b5bc-4245-93bf-8b23558433df->bot:containsElement\n",
      "\n",
      "Constraint Violation in MinCountConstraintComponent (http://www.w3.org/ns/shacl#MinCountConstraintComponent):\n",
      "\tSeverity: sh:Violation\n",
      "\tSource Shape: [ sh:minCount Literal(\"1\", datatype=xsd:integer) ; sh:path bot:containsElement ]\n",
      "\tFocus Node: inst:space_aa6e13ea-b5bc-4245-93bf-8b23558433cc\n",
      "\tResult Path: bot:containsElement\n",
      "\tMessage: Less than 1 values on inst:space_aa6e13ea-b5bc-4245-93bf-8b23558433cc->bot:containsElement\n",
      "\n",
      "Constraint Violation in MinCountConstraintComponent (http://www.w3.org/ns/shacl#MinCountConstraintComponent):\n",
      "\tSeverity: sh:Violation\n",
      "\tSource Shape: [ sh:minCount Literal(\"1\", datatype=xsd:integer) ; sh:path bot:containsElement ]\n",
      "\tFocus Node: inst:space_0b74b3fa-1a92-405e-9ac9-d59067be1d6c\n",
      "\tResult Path: bot:containsElement\n",
      "\tMessage: Less than 1 values on inst:space_0b74b3fa-1a92-405e-9ac9-d59067be1d6c->bot:containsElement\n",
      "\n",
      "Milliseconds to evaluate shape <NodeShape http://schema.org/SpaceShape>: 548.952ms\n",
      "Checking if Shape <PropertyShape n175be8fd5d47429face3dbbc4d9eb63ab1> defines its own targets.\n",
      "Identifying targets to find focus nodes.\n",
      "Milliseconds to find focus nodes: 0.177ms\n",
      "Found 0 Focus Nodes to evaluate.\n",
      "Skipping shape <PropertyShape n175be8fd5d47429face3dbbc4d9eb63ab1> because it found no focus nodes.\n"
     ]
    }
   ],
   "source": [
    "shapes_file = r'Shape/1_Shape.ttl'\n",
    "shapes_file_format = 'turtle'\n",
    "data_file_format = 'turtle'\n",
    "data_file = InstanceModel\n",
    "\n",
    "conforms, v_graph, v_text = validate(data_file, shacl_graph = shapes_file,\n",
    "                                     data_graph_format = data_file_format,\n",
    "                                     shacl_graph_format = shapes_file_format,\n",
    "                                     inference='rdfs', debug=True,\n",
    "                                     serialize_report_graph=True)\n",
    "\n"
   ]
  },
  {
   "cell_type": "code",
   "execution_count": 17,
   "metadata": {},
   "outputs": [
    {
     "name": "stdout",
     "output_type": "stream",
     "text": [
      "****************************Conforms******************************************\n",
      "False\n",
      "****************************V_graph******************************************\n",
      "b'@prefix bot: <https://w3id.org/bot#> .\\n@prefix inst: <http://consolidproject.org/models/duplex/> .\\n@prefix sh: <http://www.w3.org/ns/shacl#> .\\n@prefix xsd: <http://www.w3.org/2001/XMLSchema#> .\\n\\n[] a sh:ValidationReport ;\\n    sh:conforms false ;\\n    sh:result [ a sh:ValidationResult ;\\n            sh:focusNode inst:space_aa6e13ea-b5bc-4245-93bf-8b23558433df ;\\n            sh:resultMessage \"Less than 1 values on inst:space_aa6e13ea-b5bc-4245-93bf-8b23558433df->bot:containsElement\" ;\\n            sh:resultPath bot:containsElement ;\\n            sh:resultSeverity sh:Violation ;\\n            sh:sourceConstraintComponent sh:MinCountConstraintComponent ;\\n            sh:sourceShape _:n175be8fd5d47429face3dbbc4d9eb63ab1 ],\\n        [ a sh:ValidationResult ;\\n            sh:focusNode inst:space_0b74b3fa-1a92-405e-9ac9-d59067be1d75 ;\\n            sh:resultMessage \"Less than 1 values on inst:space_0b74b3fa-1a92-405e-9ac9-d59067be1d75->bot:containsElement\" ;\\n            sh:resultPath bot:containsElement ;\\n            sh:resultSeverity sh:Violation ;\\n            sh:sourceConstraintComponent sh:MinCountConstraintComponent ;\\n            sh:sourceShape _:n175be8fd5d47429face3dbbc4d9eb63ab1 ],\\n        [ a sh:ValidationResult ;\\n            sh:focusNode inst:space_0b74b3fa-1a92-405e-9ac9-d59067bfe0da ;\\n            sh:resultMessage \"Less than 1 values on inst:space_0b74b3fa-1a92-405e-9ac9-d59067bfe0da->bot:containsElement\" ;\\n            sh:resultPath bot:containsElement ;\\n            sh:resultSeverity sh:Violation ;\\n            sh:sourceConstraintComponent sh:MinCountConstraintComponent ;\\n            sh:sourceShape _:n175be8fd5d47429face3dbbc4d9eb63ab1 ],\\n        [ a sh:ValidationResult ;\\n            sh:focusNode inst:space_335fc1b3-63ca-474d-9c21-6d5abbd83da0 ;\\n            sh:resultMessage \"Less than 1 values on inst:space_335fc1b3-63ca-474d-9c21-6d5abbd83da0->bot:containsElement\" ;\\n            sh:resultPath bot:containsElement ;\\n            sh:resultSeverity sh:Violation ;\\n            sh:sourceConstraintComponent sh:MinCountConstraintComponent ;\\n            sh:sourceShape _:n175be8fd5d47429face3dbbc4d9eb63ab1 ],\\n        [ a sh:ValidationResult ;\\n            sh:focusNode inst:space_aa6e13ea-b5bc-4245-93bf-8b23558433cc ;\\n            sh:resultMessage \"Less than 1 values on inst:space_aa6e13ea-b5bc-4245-93bf-8b23558433cc->bot:containsElement\" ;\\n            sh:resultPath bot:containsElement ;\\n            sh:resultSeverity sh:Violation ;\\n            sh:sourceConstraintComponent sh:MinCountConstraintComponent ;\\n            sh:sourceShape _:n175be8fd5d47429face3dbbc4d9eb63ab1 ],\\n        [ a sh:ValidationResult ;\\n            sh:focusNode inst:space_0b74b3fa-1a92-405e-9ac9-d59067bfe0d0 ;\\n            sh:resultMessage \"Less than 1 values on inst:space_0b74b3fa-1a92-405e-9ac9-d59067bfe0d0->bot:containsElement\" ;\\n            sh:resultPath bot:containsElement ;\\n            sh:resultSeverity sh:Violation ;\\n            sh:sourceConstraintComponent sh:MinCountConstraintComponent ;\\n            sh:sourceShape _:n175be8fd5d47429face3dbbc4d9eb63ab1 ],\\n        [ a sh:ValidationResult ;\\n            sh:focusNode inst:space_0b74b3fa-1a92-405e-9ac9-d59067be1d6c ;\\n            sh:resultMessage \"Less than 1 values on inst:space_0b74b3fa-1a92-405e-9ac9-d59067be1d6c->bot:containsElement\" ;\\n            sh:resultPath bot:containsElement ;\\n            sh:resultSeverity sh:Violation ;\\n            sh:sourceConstraintComponent sh:MinCountConstraintComponent ;\\n            sh:sourceShape _:n175be8fd5d47429face3dbbc4d9eb63ab1 ],\\n        [ a sh:ValidationResult ;\\n            sh:focusNode inst:space_40c2d70d-8d3b-49a9-9702-6756a4ee4132 ;\\n            sh:resultMessage \"Less than 1 values on inst:space_40c2d70d-8d3b-49a9-9702-6756a4ee4132->bot:containsElement\" ;\\n            sh:resultPath bot:containsElement ;\\n            sh:resultSeverity sh:Violation ;\\n            sh:sourceConstraintComponent sh:MinCountConstraintComponent ;\\n            sh:sourceShape _:n175be8fd5d47429face3dbbc4d9eb63ab1 ],\\n        [ a sh:ValidationResult ;\\n            sh:focusNode inst:space_40c2d70d-8d3b-49a9-9702-6756a4ee40fd ;\\n            sh:resultMessage \"Less than 1 values on inst:space_40c2d70d-8d3b-49a9-9702-6756a4ee40fd->bot:containsElement\" ;\\n            sh:resultPath bot:containsElement ;\\n            sh:resultSeverity sh:Violation ;\\n            sh:sourceConstraintComponent sh:MinCountConstraintComponent ;\\n            sh:sourceShape _:n175be8fd5d47429face3dbbc4d9eb63ab1 ] .\\n\\n_:n175be8fd5d47429face3dbbc4d9eb63ab1 sh:minCount 1 ;\\n    sh:path bot:containsElement .\\n\\n'\n",
      "****************************V_text******************************************\n",
      "Validation Report\n",
      "Conforms: False\n",
      "Results (9):\n",
      "Constraint Violation in MinCountConstraintComponent (http://www.w3.org/ns/shacl#MinCountConstraintComponent):\n",
      "\tSeverity: sh:Violation\n",
      "\tSource Shape: [ sh:minCount Literal(\"1\", datatype=xsd:integer) ; sh:path bot:containsElement ]\n",
      "\tFocus Node: inst:space_40c2d70d-8d3b-49a9-9702-6756a4ee4132\n",
      "\tResult Path: bot:containsElement\n",
      "\tMessage: Less than 1 values on inst:space_40c2d70d-8d3b-49a9-9702-6756a4ee4132->bot:containsElement\n",
      "Constraint Violation in MinCountConstraintComponent (http://www.w3.org/ns/shacl#MinCountConstraintComponent):\n",
      "\tSeverity: sh:Violation\n",
      "\tSource Shape: [ sh:minCount Literal(\"1\", datatype=xsd:integer) ; sh:path bot:containsElement ]\n",
      "\tFocus Node: inst:space_0b74b3fa-1a92-405e-9ac9-d59067bfe0d0\n",
      "\tResult Path: bot:containsElement\n",
      "\tMessage: Less than 1 values on inst:space_0b74b3fa-1a92-405e-9ac9-d59067bfe0d0->bot:containsElement\n",
      "Constraint Violation in MinCountConstraintComponent (http://www.w3.org/ns/shacl#MinCountConstraintComponent):\n",
      "\tSeverity: sh:Violation\n",
      "\tSource Shape: [ sh:minCount Literal(\"1\", datatype=xsd:integer) ; sh:path bot:containsElement ]\n",
      "\tFocus Node: inst:space_335fc1b3-63ca-474d-9c21-6d5abbd83da0\n",
      "\tResult Path: bot:containsElement\n",
      "\tMessage: Less than 1 values on inst:space_335fc1b3-63ca-474d-9c21-6d5abbd83da0->bot:containsElement\n",
      "Constraint Violation in MinCountConstraintComponent (http://www.w3.org/ns/shacl#MinCountConstraintComponent):\n",
      "\tSeverity: sh:Violation\n",
      "\tSource Shape: [ sh:minCount Literal(\"1\", datatype=xsd:integer) ; sh:path bot:containsElement ]\n",
      "\tFocus Node: inst:space_0b74b3fa-1a92-405e-9ac9-d59067be1d75\n",
      "\tResult Path: bot:containsElement\n",
      "\tMessage: Less than 1 values on inst:space_0b74b3fa-1a92-405e-9ac9-d59067be1d75->bot:containsElement\n",
      "Constraint Violation in MinCountConstraintComponent (http://www.w3.org/ns/shacl#MinCountConstraintComponent):\n",
      "\tSeverity: sh:Violation\n",
      "\tSource Shape: [ sh:minCount Literal(\"1\", datatype=xsd:integer) ; sh:path bot:containsElement ]\n",
      "\tFocus Node: inst:space_40c2d70d-8d3b-49a9-9702-6756a4ee40fd\n",
      "\tResult Path: bot:containsElement\n",
      "\tMessage: Less than 1 values on inst:space_40c2d70d-8d3b-49a9-9702-6756a4ee40fd->bot:containsElement\n",
      "Constraint Violation in MinCountConstraintComponent (http://www.w3.org/ns/shacl#MinCountConstraintComponent):\n",
      "\tSeverity: sh:Violation\n",
      "\tSource Shape: [ sh:minCount Literal(\"1\", datatype=xsd:integer) ; sh:path bot:containsElement ]\n",
      "\tFocus Node: inst:space_0b74b3fa-1a92-405e-9ac9-d59067bfe0da\n",
      "\tResult Path: bot:containsElement\n",
      "\tMessage: Less than 1 values on inst:space_0b74b3fa-1a92-405e-9ac9-d59067bfe0da->bot:containsElement\n",
      "Constraint Violation in MinCountConstraintComponent (http://www.w3.org/ns/shacl#MinCountConstraintComponent):\n",
      "\tSeverity: sh:Violation\n",
      "\tSource Shape: [ sh:minCount Literal(\"1\", datatype=xsd:integer) ; sh:path bot:containsElement ]\n",
      "\tFocus Node: inst:space_aa6e13ea-b5bc-4245-93bf-8b23558433df\n",
      "\tResult Path: bot:containsElement\n",
      "\tMessage: Less than 1 values on inst:space_aa6e13ea-b5bc-4245-93bf-8b23558433df->bot:containsElement\n",
      "Constraint Violation in MinCountConstraintComponent (http://www.w3.org/ns/shacl#MinCountConstraintComponent):\n",
      "\tSeverity: sh:Violation\n",
      "\tSource Shape: [ sh:minCount Literal(\"1\", datatype=xsd:integer) ; sh:path bot:containsElement ]\n",
      "\tFocus Node: inst:space_aa6e13ea-b5bc-4245-93bf-8b23558433cc\n",
      "\tResult Path: bot:containsElement\n",
      "\tMessage: Less than 1 values on inst:space_aa6e13ea-b5bc-4245-93bf-8b23558433cc->bot:containsElement\n",
      "Constraint Violation in MinCountConstraintComponent (http://www.w3.org/ns/shacl#MinCountConstraintComponent):\n",
      "\tSeverity: sh:Violation\n",
      "\tSource Shape: [ sh:minCount Literal(\"1\", datatype=xsd:integer) ; sh:path bot:containsElement ]\n",
      "\tFocus Node: inst:space_0b74b3fa-1a92-405e-9ac9-d59067be1d6c\n",
      "\tResult Path: bot:containsElement\n",
      "\tMessage: Less than 1 values on inst:space_0b74b3fa-1a92-405e-9ac9-d59067be1d6c->bot:containsElement\n",
      "\n"
     ]
    }
   ],
   "source": [
    "print('****************************{0}******************************************'.format(\"Conforms\"))\n",
    "print(conforms)\n",
    "print('****************************{0}******************************************'.format(\"V_graph\"))\n",
    "print(v_graph)\n",
    "print('****************************{0}******************************************'.format(\"V_text\"))\n",
    "print(v_text)"
   ]
  },
  {
   "cell_type": "code",
   "execution_count": 15,
   "metadata": {},
   "outputs": [
    {
     "ename": "NameError",
     "evalue": "name 'v_graph' is not defined",
     "output_type": "error",
     "traceback": [
      "\u001b[1;31m---------------------------------------------------------------------------\u001b[0m",
      "\u001b[1;31mNameError\u001b[0m                                 Traceback (most recent call last)",
      "Cell \u001b[1;32mIn[15], line 3\u001b[0m\n\u001b[0;32m      1\u001b[0m fpath \u001b[39m=\u001b[39m fpath\u001b[39m.\u001b[39mreplace(\u001b[39m'\u001b[39m\u001b[39m.ttl\u001b[39m\u001b[39m'\u001b[39m,\u001b[39m'\u001b[39m\u001b[39m_SHACL_validation_report.ttl\u001b[39m\u001b[39m'\u001b[39m)\n\u001b[0;32m      2\u001b[0m \u001b[39mwith\u001b[39;00m \u001b[39mopen\u001b[39m(fpath, \u001b[39m'\u001b[39m\u001b[39mwb\u001b[39m\u001b[39m'\u001b[39m) \u001b[39mas\u001b[39;00m f:\n\u001b[1;32m----> 3\u001b[0m     f\u001b[39m.\u001b[39mwrite(v_graph)\n",
      "\u001b[1;31mNameError\u001b[0m: name 'v_graph' is not defined"
     ]
    }
   ],
   "source": [
    "fpath = fpath.replace('.ttl','_SHACL_validation_report.ttl')\n",
    "with open(fpath, 'wb') as f:\n",
    "    f.write(v_graph)"
   ]
  },
  {
   "cell_type": "code",
   "execution_count": null,
   "metadata": {},
   "outputs": [],
   "source": []
  }
 ],
 "metadata": {
  "kernelspec": {
   "display_name": "Python 3",
   "language": "python",
   "name": "python3"
  },
  "language_info": {
   "codemirror_mode": {
    "name": "ipython",
    "version": 3
   },
   "file_extension": ".py",
   "mimetype": "text/x-python",
   "name": "python",
   "nbconvert_exporter": "python",
   "pygments_lexer": "ipython3",
   "version": "3.11.2"
  },
  "orig_nbformat": 4
 },
 "nbformat": 4,
 "nbformat_minor": 2
}
