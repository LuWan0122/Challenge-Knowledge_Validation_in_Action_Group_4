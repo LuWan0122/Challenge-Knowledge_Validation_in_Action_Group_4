{
 "cells": [
  {
   "attachments": {},
   "cell_type": "markdown",
   "metadata": {},
   "source": [
    "# Import the libraries"
   ]
  },
  {
   "cell_type": "code",
   "execution_count": 114,
   "metadata": {},
   "outputs": [],
   "source": [
    "from rdflib import Graph, Literal, term, URIRef, RDF\n",
    "from rdflib.namespace import Namespace, NamespaceManager\n",
    "import pyshacl\n",
    "import re\n",
    "import os\n",
    "from rdflib.namespace import Namespace, NamespaceManager"
   ]
  },
  {
   "attachments": {},
   "cell_type": "markdown",
   "metadata": {},
   "source": [
    "# Validation Function"
   ]
  },
  {
   "cell_type": "code",
   "execution_count": 115,
   "metadata": {},
   "outputs": [],
   "source": [
    "def validate_graph(data_graph, shape_graph):\n",
    "    shapes_file_format = 'turtle'\n",
    "    data_file_format = 'turtle'\n",
    "\n",
    "    res = pyshacl.validate(data_graph, shacl_graph = shape_graph,\n",
    "                                     data_graph_format = data_file_format,\n",
    "                                     shacl_graph_format = shapes_file_format,\n",
    "                                     inference=None)\n",
    "\n",
    "    return res\n"
   ]
  },
  {
   "cell_type": "code",
   "execution_count": 116,
   "metadata": {},
   "outputs": [
    {
     "data": {
      "text/plain": [
       "<Graph identifier=N27cbcdc0ffec4a62b1399e3e829bcb88 (<class 'rdflib.graph.Graph'>)>"
      ]
     },
     "execution_count": 116,
     "metadata": {},
     "output_type": "execute_result"
    }
   ],
   "source": [
    "# Load the data graph\n",
    "data_graph = Graph()\n",
    "data_graph.parse(\"InstanceModel/brick_model.ttl\", format=\"turtle\")\n",
    "# Load the Shape File\n",
    "shape_graph = Graph()\n",
    "shape_graph.parse(\"Shape/brick_vav_points_shape.ttl\", format=\"turtle\")\n"
   ]
  },
  {
   "cell_type": "code",
   "execution_count": 117,
   "metadata": {},
   "outputs": [
    {
     "data": {
      "text/plain": [
       "True"
      ]
     },
     "execution_count": 117,
     "metadata": {},
     "output_type": "execute_result"
    }
   ],
   "source": [
    "res = validate_graph(data_graph, shape_graph)\n",
    "res[0]"
   ]
  },
  {
   "attachments": {},
   "cell_type": "markdown",
   "metadata": {},
   "source": [
    "# BOT GUID Example\n",
    "Requirement:\n",
    "Each bot:Space must have one and only guid and that guid must be a string. "
   ]
  },
  {
   "cell_type": "code",
   "execution_count": 118,
   "metadata": {},
   "outputs": [
    {
     "data": {
      "text/plain": [
       "<Graph identifier=N331a626cba7544cfb910e03f1e8916a1 (<class 'rdflib.graph.Graph'>)>"
      ]
     },
     "execution_count": 118,
     "metadata": {},
     "output_type": "execute_result"
    }
   ],
   "source": [
    "# Load the Shape File\n",
    "shape_graph = Graph()\n",
    "shape_graph.parse(\"Shape/ifc_guid.ttl\", format=\"turtle\")"
   ]
  },
  {
   "cell_type": "code",
   "execution_count": 119,
   "metadata": {},
   "outputs": [
    {
     "data": {
      "text/plain": [
       "True"
      ]
     },
     "execution_count": 119,
     "metadata": {},
     "output_type": "execute_result"
    }
   ],
   "source": [
    "res = validate_graph(data_graph, shape_graph)\n",
    "res[0]"
   ]
  },
  {
   "attachments": {},
   "cell_type": "markdown",
   "metadata": {},
   "source": [
    "### Load the invalid data graph"
   ]
  },
  {
   "cell_type": "code",
   "execution_count": 120,
   "metadata": {},
   "outputs": [
    {
     "data": {
      "text/plain": [
       "<Graph identifier=N5f6d85d0d7ae477695c3f87c730cbd7d (<class 'rdflib.graph.Graph'>)>"
      ]
     },
     "execution_count": 120,
     "metadata": {},
     "output_type": "execute_result"
    }
   ],
   "source": [
    "data_graph_invalid = Graph()\n",
    "data_graph_invalid.parse(\"InstanceModel/brick_model_invalid.ttl\", format=\"turtle\")"
   ]
  },
  {
   "cell_type": "code",
   "execution_count": 121,
   "metadata": {},
   "outputs": [
    {
     "data": {
      "text/plain": [
       "False"
      ]
     },
     "execution_count": 121,
     "metadata": {},
     "output_type": "execute_result"
    }
   ],
   "source": [
    "res = validate_graph(data_graph_invalid, shape_graph)\n",
    "res[0]"
   ]
  },
  {
   "attachments": {},
   "cell_type": "markdown",
   "metadata": {},
   "source": [
    "# Brick VAV Example (point count)\n",
    "Each brick:VAV must have two Points."
   ]
  },
  {
   "cell_type": "code",
   "execution_count": 122,
   "metadata": {},
   "outputs": [
    {
     "data": {
      "text/plain": [
       "True"
      ]
     },
     "execution_count": 122,
     "metadata": {},
     "output_type": "execute_result"
    }
   ],
   "source": [
    "# Load the Shape File\n",
    "shape_graph = Graph()\n",
    "shape_graph.parse(\"Shape/brick_vav_points_count.ttl\", format=\"turtle\")\n",
    "\n",
    "res = validate_graph(data_graph, shape_graph)\n",
    "res[0]"
   ]
  },
  {
   "cell_type": "code",
   "execution_count": 123,
   "metadata": {},
   "outputs": [
    {
     "data": {
      "text/plain": [
       "False"
      ]
     },
     "execution_count": 123,
     "metadata": {},
     "output_type": "execute_result"
    }
   ],
   "source": [
    "res = validate_graph(data_graph_invalid, shape_graph)\n",
    "res[0]"
   ]
  },
  {
   "attachments": {},
   "cell_type": "markdown",
   "metadata": {},
   "source": [
    "# Brick VAV Point Type Example\n",
    "\n",
    "Each brick:VAV must have a brick:Zone_Air_Temperature_Sensor and a brick:Zone_Air_Temperature_Setpoint."
   ]
  },
  {
   "cell_type": "code",
   "execution_count": 124,
   "metadata": {},
   "outputs": [
    {
     "data": {
      "text/plain": [
       "True"
      ]
     },
     "execution_count": 124,
     "metadata": {},
     "output_type": "execute_result"
    }
   ],
   "source": [
    "# Load the Shape File\n",
    "shape_graph = Graph()\n",
    "shape_graph.parse(\"Shape/brick_vav_points_shape.ttl\", format=\"turtle\")\n",
    "\n",
    "res = validate_graph(data_graph, shape_graph)\n",
    "res[0]\n"
   ]
  },
  {
   "cell_type": "code",
   "execution_count": 129,
   "metadata": {},
   "outputs": [
    {
     "data": {
      "text/plain": [
       "True"
      ]
     },
     "execution_count": 129,
     "metadata": {},
     "output_type": "execute_result"
    }
   ],
   "source": [
    "res = validate_graph(data_graph_invalid, shape_graph)\n",
    "res[0]"
   ]
  }
 ],
 "metadata": {
  "kernelspec": {
   "display_name": "Python 3",
   "language": "python",
   "name": "python3"
  },
  "language_info": {
   "codemirror_mode": {
    "name": "ipython",
    "version": 3
   },
   "file_extension": ".py",
   "mimetype": "text/x-python",
   "name": "python",
   "nbconvert_exporter": "python",
   "pygments_lexer": "ipython3",
   "version": "3.11.2"
  },
  "orig_nbformat": 4
 },
 "nbformat": 4,
 "nbformat_minor": 2
}
