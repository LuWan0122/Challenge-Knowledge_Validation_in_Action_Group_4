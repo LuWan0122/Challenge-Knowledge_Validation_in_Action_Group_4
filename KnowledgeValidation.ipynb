{
 "cells": [
  {
   "attachments": {},
   "cell_type": "markdown",
   "metadata": {},
   "source": [
    "# Import the libraries"
   ]
  },
  {
   "cell_type": "code",
   "execution_count": 2,
   "metadata": {},
   "outputs": [],
   "source": [
    "from rdflib import Graph, Literal, term, URIRef, RDF\n",
    "from rdflib.namespace import Namespace, NamespaceManager\n",
    "import pyshacl\n",
    "import re\n",
    "import os\n",
    "from rdflib.namespace import Namespace, NamespaceManager"
   ]
  },
  {
   "attachments": {},
   "cell_type": "markdown",
   "metadata": {},
   "source": [
    "# Validation Function"
   ]
  },
  {
   "cell_type": "code",
   "execution_count": 3,
   "metadata": {},
   "outputs": [],
   "source": [
    "def validate_graph(data_graph, shape_graph):\n",
    "    shapes_file_format = 'turtle'\n",
    "    data_file_format = 'turtle'\n",
    "\n",
    "    res = pyshacl.validate(data_graph, shacl_graph = shape_graph,\n",
    "                                     data_graph_format = data_file_format,\n",
    "                                     shacl_graph_format = shapes_file_format,\n",
    "                                     inference=None)\n",
    "\n",
    "    return res\n"
   ]
  },
  {
   "cell_type": "code",
   "execution_count": 4,
   "metadata": {},
   "outputs": [
    {
     "data": {
      "text/plain": [
       "<Graph identifier=N6049312cbc1b4944b75eecde77c517eb (<class 'rdflib.graph.Graph'>)>"
      ]
     },
     "execution_count": 4,
     "metadata": {},
     "output_type": "execute_result"
    }
   ],
   "source": [
    "# Load the data graph\n",
    "data_graph = Graph()\n",
    "data_graph.parse(\"InstanceModel/brick_model.ttl\", format=\"turtle\")\n",
    "# Load the Shape File\n",
    "shape_graph = Graph()\n",
    "shape_graph.parse(\"Shape/brick_vav_points_shape.ttl\", format=\"turtle\")\n"
   ]
  },
  {
   "cell_type": "code",
   "execution_count": 5,
   "metadata": {},
   "outputs": [
    {
     "data": {
      "text/plain": [
       "True"
      ]
     },
     "execution_count": 5,
     "metadata": {},
     "output_type": "execute_result"
    }
   ],
   "source": [
    "res = validate_graph(data_graph, shape_graph)\n",
    "res[0]"
   ]
  },
  {
   "attachments": {},
   "cell_type": "markdown",
   "metadata": {},
   "source": [
    "# BOT GUID Example\n",
    "Requirement:\n",
    "Each bot:Space must have one and only guid and that guid must be a string. "
   ]
  },
  {
   "cell_type": "code",
   "execution_count": 6,
   "metadata": {},
   "outputs": [
    {
     "data": {
      "text/plain": [
       "<Graph identifier=Nc3df2a2a3235490baf03e27804015bf6 (<class 'rdflib.graph.Graph'>)>"
      ]
     },
     "execution_count": 6,
     "metadata": {},
     "output_type": "execute_result"
    }
   ],
   "source": [
    "# Load the Shape File\n",
    "shape_graph = Graph()\n",
    "shape_graph.parse(\"Shape/ifc_guid.ttl\", format=\"turtle\")"
   ]
  },
  {
   "cell_type": "code",
   "execution_count": 7,
   "metadata": {},
   "outputs": [
    {
     "data": {
      "text/plain": [
       "True"
      ]
     },
     "execution_count": 7,
     "metadata": {},
     "output_type": "execute_result"
    }
   ],
   "source": [
    "res = validate_graph(data_graph, shape_graph)\n",
    "res[0]"
   ]
  },
  {
   "attachments": {},
   "cell_type": "markdown",
   "metadata": {},
   "source": [
    "# Brick VAV Example (point count)\n",
    "Each brick:VAV must have two Points."
   ]
  },
  {
   "cell_type": "code",
   "execution_count": 8,
   "metadata": {},
   "outputs": [
    {
     "data": {
      "text/plain": [
       "True"
      ]
     },
     "execution_count": 8,
     "metadata": {},
     "output_type": "execute_result"
    }
   ],
   "source": [
    "# Load the Shape File\n",
    "shape_graph = Graph()\n",
    "shape_graph.parse(\"Shape/brick_vav_points_count.ttl\", format=\"turtle\")\n",
    "\n",
    "res = validate_graph(data_graph, shape_graph)\n",
    "res[0]"
   ]
  },
  {
   "attachments": {},
   "cell_type": "markdown",
   "metadata": {},
   "source": [
    "# Brick VAV Point Type Example\n",
    "\n",
    "Each brick:VAV must have a brick:Zone_Air_Temperature_Sensor and a brick:Zone_Air_Temperature_Setpoint."
   ]
  },
  {
   "cell_type": "code",
   "execution_count": 9,
   "metadata": {},
   "outputs": [
    {
     "data": {
      "text/plain": [
       "True"
      ]
     },
     "execution_count": 9,
     "metadata": {},
     "output_type": "execute_result"
    }
   ],
   "source": [
    "# Load the Shape File\n",
    "shape_graph = Graph()\n",
    "shape_graph.parse(\"Shape/brick_vav_points_shape.ttl\", format=\"turtle\")\n",
    "\n",
    "res = validate_graph(data_graph, shape_graph)\n",
    "res[0]\n"
   ]
  }
 ],
 "metadata": {
  "kernelspec": {
   "display_name": "Python 3",
   "language": "python",
   "name": "python3"
  },
  "language_info": {
   "codemirror_mode": {
    "name": "ipython",
    "version": 3
   },
   "file_extension": ".py",
   "mimetype": "text/x-python",
   "name": "python",
   "nbconvert_exporter": "python",
   "pygments_lexer": "ipython3",
   "version": "3.11.2"
  },
  "orig_nbformat": 4
 },
 "nbformat": 4,
 "nbformat_minor": 2
}
