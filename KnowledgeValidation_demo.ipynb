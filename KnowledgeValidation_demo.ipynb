{
 "cells": [
  {
   "attachments": {},
   "cell_type": "markdown",
   "metadata": {},
   "source": [
    "# Import the libraries"
   ]
  },
  {
   "cell_type": "code",
   "execution_count": null,
   "metadata": {},
   "outputs": [],
   "source": [
    "from rdflib import Graph, Literal, term, URIRef, RDF\n",
    "from rdflib.namespace import Namespace, NamespaceManager\n",
    "import pyshacl\n",
    "import re\n",
    "import os\n",
    "from rdflib.namespace import Namespace, NamespaceManager\n",
    "from NLP2SHACL import write_shacl"
   ]
  },
  {
   "attachments": {},
   "cell_type": "markdown",
   "metadata": {},
   "source": [
    "# Load the graph"
   ]
  },
  {
   "cell_type": "code",
   "execution_count": null,
   "metadata": {},
   "outputs": [],
   "source": [
    "# Load the data graph\n",
    "data_graph = Graph()\n",
    "data_graph.parse(\"InstanceModel/brick_model.ttl\", format=\"turtle\")"
   ]
  },
  {
   "attachments": {},
   "cell_type": "markdown",
   "metadata": {},
   "source": [
    "# Validation Function"
   ]
  },
  {
   "cell_type": "code",
   "execution_count": null,
   "metadata": {},
   "outputs": [],
   "source": [
    "def validate_graph(data_graph, shape_graph):\n",
    "    shapes_file_format = 'turtle'\n",
    "    data_file_format = 'turtle'\n",
    "\n",
    "    res = pyshacl.validate(data_graph, shacl_graph = shape_graph,\n",
    "                                     data_graph_format = data_file_format,\n",
    "                                     shacl_graph_format = shapes_file_format,\n",
    "                                     inference='both')\n",
    "\n",
    "    return res\n"
   ]
  },
  {
   "attachments": {},
   "cell_type": "markdown",
   "metadata": {},
   "source": [
    "# BOT GUID Example\n",
    "Requirement:\n",
    "Each bot:Space must have one and only guid and that guid must be a string. "
   ]
  },
  {
   "cell_type": "code",
   "execution_count": null,
   "metadata": {},
   "outputs": [],
   "source": [
    "# Load the Shape File\n",
    "shape_graph = Graph()\n",
    "shape_graph.parse(\"Shape/ifc_guid.ttl\", format=\"turtle\")"
   ]
  },
  {
   "cell_type": "code",
   "execution_count": null,
   "metadata": {},
   "outputs": [],
   "source": [
    "res = validate_graph(data_graph, shape_graph)\n",
    "res[0]"
   ]
  },
  {
   "attachments": {},
   "cell_type": "markdown",
   "metadata": {},
   "source": [
    "### Load the invalid data graph"
   ]
  },
  {
   "cell_type": "code",
   "execution_count": null,
   "metadata": {},
   "outputs": [],
   "source": [
    "data_graph_invalid = Graph()\n",
    "data_graph_invalid.parse(\"InstanceModel/brick_model_invalid.ttl\", format=\"turtle\")"
   ]
  },
  {
   "cell_type": "code",
   "execution_count": null,
   "metadata": {},
   "outputs": [],
   "source": [
    "res = validate_graph(data_graph_invalid, shape_graph)\n",
    "res[0]"
   ]
  },
  {
   "attachments": {},
   "cell_type": "markdown",
   "metadata": {},
   "source": [
    "# Brick VAV Example (point count)\n",
    "Each brick:VAV must have two Points."
   ]
  },
  {
   "attachments": {},
   "cell_type": "markdown",
   "metadata": {},
   "source": [
    "## Using NLP2SHACL tool"
   ]
  },
  {
   "cell_type": "code",
   "execution_count": null,
   "metadata": {},
   "outputs": [],
   "source": [
    "# Generate the SHACL\n",
    "requirement_txt= \"\"\"\n",
    "   R1 : Every HVAC_Zone should hasPoint at least 2.\n",
    "   \"\"\"\n",
    "\n",
    "shacl_txt = write_shacl(requirement_txt)\n",
    "\n",
    "print('SHACL text generated:\\n {0}'.format(shacl_txt))"
   ]
  },
  {
   "attachments": {},
   "cell_type": "markdown",
   "metadata": {},
   "source": [
    "## Run the SHACL against the data graph"
   ]
  },
  {
   "cell_type": "code",
   "execution_count": null,
   "metadata": {},
   "outputs": [],
   "source": [
    "# Load the generated shacl text and run validation\n",
    "shape_graph = shacl_txt\n",
    "res = validate_graph(data_graph, shape_graph)\n",
    "\n",
    "print(res[2])"
   ]
  },
  {
   "attachments": {},
   "cell_type": "markdown",
   "metadata": {},
   "source": [
    "# Brick VAV Point Type Example\n",
    "\n",
    "Each brick:VAV must have a brick:Zone_Air_Temperature_Sensor and a brick:Zone_Air_Temperature_Setpoint."
   ]
  },
  {
   "cell_type": "code",
   "execution_count": null,
   "metadata": {},
   "outputs": [],
   "source": [
    "# Generate the SHACL\n",
    "requirement_txt= \"\"\"\n",
    "   R2 : Every VAV should hasPoint at least 1 Zone_Air_Temperature_Sensor and hasPoint at least 1 Zone_Air_Temperature_Setpoint.\n",
    "   \"\"\"\n",
    "\n",
    "shacl_txt = write_shacl(requirement_txt)\n",
    "\n",
    "print('SHACL text generated:\\n {0}'.format(shacl_txt))"
   ]
  },
  {
   "cell_type": "code",
   "execution_count": null,
   "metadata": {},
   "outputs": [],
   "source": [
    "# Load the generated shacl text and run validation\n",
    "shape_graph = shacl_txt\n",
    "res = validate_graph(data_graph, shape_graph)\n",
    "\n",
    "print(res[2])\n"
   ]
  },
  {
   "attachments": {},
   "cell_type": "markdown",
   "metadata": {},
   "source": [
    "# Brick HVAC_Zone Example\n",
    "\n",
    "Each HVAC_Zone should by fed by at least 1 VAV"
   ]
  },
  {
   "cell_type": "code",
   "execution_count": null,
   "metadata": {},
   "outputs": [],
   "source": [
    "# Generate the SHACL\n",
    "requirement_txt= \"\"\"\n",
    "   R3 : Every HVAC_Zone should feeds by at least 1 VAV.\n",
    "   \"\"\"\n",
    "\n",
    "shacl_txt = write_shacl(requirement_txt)\n",
    "\n",
    "print('SHACL text generated:\\n {0}'.format(shacl_txt))"
   ]
  },
  {
   "cell_type": "code",
   "execution_count": null,
   "metadata": {},
   "outputs": [],
   "source": [
    "# Load the generated shacl text and run validation\n",
    "shape_graph = shacl_txt\n",
    "res = validate_graph(data_graph, shape_graph)\n",
    "\n",
    "print(res[2])"
   ]
  }
 ],
 "metadata": {
  "kernelspec": {
   "display_name": "Python 3",
   "language": "python",
   "name": "python3"
  },
  "language_info": {
   "codemirror_mode": {
    "name": "ipython",
    "version": 3
   },
   "file_extension": ".py",
   "mimetype": "text/x-python",
   "name": "python",
   "nbconvert_exporter": "python",
   "pygments_lexer": "ipython3",
   "version": "3.9.15"
  },
  "orig_nbformat": 4
 },
 "nbformat": 4,
 "nbformat_minor": 2
}
