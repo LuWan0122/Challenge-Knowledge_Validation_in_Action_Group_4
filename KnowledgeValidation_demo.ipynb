{
 "cells": [
  {
   "attachments": {},
   "cell_type": "markdown",
   "metadata": {},
   "source": [
    "# Import the libraries"
   ]
  },
  {
   "cell_type": "code",
   "execution_count": 1,
   "metadata": {},
   "outputs": [],
   "source": [
    "from rdflib import Graph, Literal, term, URIRef, RDF\n",
    "from rdflib.namespace import Namespace, NamespaceManager\n",
    "import pyshacl\n",
    "import re\n",
    "import os\n",
    "from rdflib.namespace import Namespace, NamespaceManager\n",
    "from NLP2SHACL import write_shacl"
   ]
  },
  {
   "attachments": {},
   "cell_type": "markdown",
   "metadata": {},
   "source": [
    "# Load the graph"
   ]
  },
  {
   "cell_type": "code",
   "execution_count": 63,
   "metadata": {},
   "outputs": [
    {
     "data": {
      "text/plain": [
       "<Graph identifier=N9e26b9536b084a76ac65380bccfa70ba (<class 'rdflib.graph.Graph'>)>"
      ]
     },
     "execution_count": 63,
     "metadata": {},
     "output_type": "execute_result"
    }
   ],
   "source": [
    "# Load the data graph\n",
    "data_graph = Graph()\n",
    "data_graph.parse(\"InstanceModel/brick_model.ttl\", format=\"turtle\")"
   ]
  },
  {
   "attachments": {},
   "cell_type": "markdown",
   "metadata": {},
   "source": [
    "# Validation Function"
   ]
  },
  {
   "cell_type": "code",
   "execution_count": 64,
   "metadata": {},
   "outputs": [],
   "source": [
    "def validate_graph(data_graph, shape_graph):\n",
    "    shapes_file_format = 'turtle'\n",
    "    data_file_format = 'turtle'\n",
    "\n",
    "    res = pyshacl.validate(data_graph, shacl_graph = shape_graph,\n",
    "                                     data_graph_format = data_file_format,\n",
    "                                     shacl_graph_format = shapes_file_format,\n",
    "                                     inference='both')\n",
    "\n",
    "    return res\n"
   ]
  },
  {
   "attachments": {},
   "cell_type": "markdown",
   "metadata": {},
   "source": [
    "### Load the invalid data graph"
   ]
  },
  {
   "cell_type": "code",
   "execution_count": 85,
   "metadata": {},
   "outputs": [
    {
     "data": {
      "text/plain": [
       "<Graph identifier=Nfc92ed0da0a14cefb757c59c38f5f2ab (<class 'rdflib.graph.Graph'>)>"
      ]
     },
     "execution_count": 85,
     "metadata": {},
     "output_type": "execute_result"
    }
   ],
   "source": [
    "data_graph_invalid = Graph()\n",
    "data_graph_invalid.parse(\"InstanceModel/brick_model_invalid.ttl\", format=\"turtle\")"
   ]
  },
  {
   "attachments": {},
   "cell_type": "markdown",
   "metadata": {},
   "source": [
    "# Brick VAV Example (point count)\n",
    "### R1 : Every VAV should hasPoint at least 2."
   ]
  },
  {
   "attachments": {},
   "cell_type": "markdown",
   "metadata": {},
   "source": [
    "## Using NLP2SHACL tool"
   ]
  },
  {
   "cell_type": "code",
   "execution_count": 76,
   "metadata": {},
   "outputs": [
    {
     "name": "stdout",
     "output_type": "stream",
     "text": [
      "SHACL text generated:\n",
      " \n",
      "@prefix sh: <http://www.w3.org/ns/shacl#> .\n",
      "@prefix xsd: <http://www.w3.org/2001/XMLSchema#> .\n",
      "@prefix inst: <http://linkedbuildingdata.net/ifc/resources20201208_005325/> .\n",
      "@prefix brick: <https://brickschema.org/schema/Brick#> .\n",
      "inst:R1 a sh:NodeShape ;\n",
      "    sh:targetClass brick:VAV ;\n",
      "\n",
      "sh:property [\n",
      "sh:path brick:hasPoint ;\n",
      " sh:minCount 2 ;\n",
      "] .\n"
     ]
    }
   ],
   "source": [
    "# Generate the SHACL\n",
    "requirement_txt= \"\"\"\n",
    "   R1 : Every VAV should hasPoint at least 2.\n",
    "   \"\"\"\n",
    "\n",
    "shacl_txt = write_shacl(requirement_txt)\n",
    "\n",
    "print('SHACL text generated:\\n {0}'.format(shacl_txt))"
   ]
  },
  {
   "attachments": {},
   "cell_type": "markdown",
   "metadata": {},
   "source": [
    "## Run the SHACL against the data graph"
   ]
  },
  {
   "cell_type": "code",
   "execution_count": 75,
   "metadata": {},
   "outputs": [
    {
     "name": "stdout",
     "output_type": "stream",
     "text": [
      "Validation Report\n",
      "Conforms: True\n",
      "\n"
     ]
    }
   ],
   "source": [
    "# Load the generated shacl text and run validation\n",
    "shape_graph = shacl_txt\n",
    "res = validate_graph(data_graph, shape_graph)\n",
    "\n",
    "print(res[2])"
   ]
  },
  {
   "attachments": {},
   "cell_type": "markdown",
   "metadata": {},
   "source": [
    "# Brick HVAC_Zone Example\n",
    "\n",
    "Each HVAC_Zone should by fed by at least 1 VAV"
   ]
  },
  {
   "cell_type": "code",
   "execution_count": 81,
   "metadata": {},
   "outputs": [
    {
     "name": "stdout",
     "output_type": "stream",
     "text": [
      "SHACL text generated:\n",
      " \n",
      "@prefix sh: <http://www.w3.org/ns/shacl#> .\n",
      "@prefix xsd: <http://www.w3.org/2001/XMLSchema#> .\n",
      "@prefix inst: <http://linkedbuildingdata.net/ifc/resources20201208_005325/> .\n",
      "@prefix brick: <https://brickschema.org/schema/Brick#> .\n",
      "inst:R3 a sh:NodeShape ;\n",
      "    sh:targetClass brick:HVAC_Zone ;\n",
      "    sh:property [\n",
      "    sh:path [sh:inversePath brick:feeds] ;\n",
      "sh:minCount 1 ;\n",
      "\tsh:class brick:VAV ;\n",
      "] .\n"
     ]
    }
   ],
   "source": [
    "# Generate the SHACL\n",
    "requirement_txt= \"\"\"\n",
    "   R3 : Every HVAC_Zone should feeds by at least 1 VAV.\n",
    "   \"\"\"\n",
    "\n",
    "shacl_txt = write_shacl(requirement_txt)\n",
    "\n",
    "print('SHACL text generated:\\n {0}'.format(shacl_txt))"
   ]
  },
  {
   "cell_type": "code",
   "execution_count": 82,
   "metadata": {},
   "outputs": [
    {
     "name": "stdout",
     "output_type": "stream",
     "text": [
      "Validation Report\n",
      "Conforms: True\n",
      "\n"
     ]
    }
   ],
   "source": [
    "# Load the generated shacl text and run validation\n",
    "shape_graph = shacl_txt\n",
    "res = validate_graph(data_graph, shape_graph)\n",
    "\n",
    "print(res[2])"
   ]
  },
  {
   "attachments": {},
   "cell_type": "markdown",
   "metadata": {},
   "source": [
    "# Brick VAV Point Type Example\n",
    "\n",
    "### R2 : Every VAV should hasPoint at least 1 Zone_Air_Temperature_Sensor and hasPoint at least 1 Zone_Air_Temperature_Setpoint."
   ]
  },
  {
   "cell_type": "code",
   "execution_count": null,
   "metadata": {},
   "outputs": [
    {
     "name": "stdout",
     "output_type": "stream",
     "text": [
      "SHACL text generated:\n",
      " \n",
      "@prefix sh: <http://www.w3.org/ns/shacl#> .\n",
      "@prefix xsd: <http://www.w3.org/2001/XMLSchema#> .\n",
      "@prefix inst: <http://linkedbuildingdata.net/ifc/resources20201208_005325/> .\n",
      "@prefix brick: <https://brickschema.org/schema/Brick#> .\n",
      "inst:R2 a sh:NodeShape ;\n",
      "    sh:targetClass brick:VAV ;\n",
      "\n",
      "sh:property [\n",
      "sh:path brick:hasPoint ;\n",
      " sh:minCount 1 ;\n",
      "\tsh:class brick:Zone_Air_Temperature_Sensor ;] ;\n",
      "\n",
      "sh:property [\n",
      "sh:path brick:hasPoint ;\n",
      " sh:minCount 1 ;\n",
      "\tsh:class brick:Zone_Air_Temperature_Setpoint ;\n",
      "] .\n"
     ]
    }
   ],
   "source": [
    "# Generate the SHACL\n",
    "requirement_txt= \"\"\"\n",
    "   R2 : Every VAV should hasPoint at least 1 Zone_Air_Temperature_Sensor and hasPoint at least 1 Zone_Air_Temperature_Setpoint.\n",
    "   \"\"\"\n",
    "\n",
    "shacl_txt = write_shacl(requirement_txt)\n",
    "\n",
    "print('SHACL text generated:\\n {0}'.format(shacl_txt))"
   ]
  },
  {
   "cell_type": "code",
   "execution_count": null,
   "metadata": {},
   "outputs": [
    {
     "name": "stdout",
     "output_type": "stream",
     "text": [
      "Validation Report\n",
      "Conforms: False\n",
      "Results (2):\n",
      "Constraint Violation in ClassConstraintComponent (http://www.w3.org/ns/shacl#ClassConstraintComponent):\n",
      "\tSeverity: sh:Violation\n",
      "\tSource Shape: [ sh:class brick:Zone_Air_Temperature_Sensor ; sh:minCount Literal(\"1\", datatype=xsd:integer) ; sh:path brick:hasPoint ]\n",
      "\tFocus Node: inst:vav1\n",
      "\tValue Node: inst:setpoint1\n",
      "\tResult Path: brick:hasPoint\n",
      "\tMessage: Value does not have class brick:Zone_Air_Temperature_Sensor\n",
      "Constraint Violation in ClassConstraintComponent (http://www.w3.org/ns/shacl#ClassConstraintComponent):\n",
      "\tSeverity: sh:Violation\n",
      "\tSource Shape: [ sh:class brick:Zone_Air_Temperature_Setpoint ; sh:minCount Literal(\"1\", datatype=xsd:integer) ; sh:path brick:hasPoint ]\n",
      "\tFocus Node: inst:vav1\n",
      "\tValue Node: inst:sensor1\n",
      "\tResult Path: brick:hasPoint\n",
      "\tMessage: Value does not have class brick:Zone_Air_Temperature_Setpoint\n",
      "\n"
     ]
    }
   ],
   "source": [
    "# Load the generated shacl text and run validation\n",
    "\n",
    "shape_graph = shacl_txt\n",
    "res = validate_graph(data_graph, shape_graph)\n",
    "\n",
    "print(res[2])"
   ]
  },
  {
   "attachments": {},
   "cell_type": "markdown",
   "metadata": {},
   "source": [
    "# BOT GUID Example\n",
    "Requirement:\n",
    "Each bot:Space must have one and only guid and that guid must be a string. "
   ]
  },
  {
   "cell_type": "code",
   "execution_count": null,
   "metadata": {},
   "outputs": [],
   "source": [
    "# Load the Shape File\n",
    "shape_graph = Graph()\n",
    "shape_graph.parse(\"Shape/ifc_guid.ttl\", format=\"turtle\")"
   ]
  },
  {
   "cell_type": "code",
   "execution_count": null,
   "metadata": {},
   "outputs": [],
   "source": [
    "res = validate_graph(data_graph, shape_graph)\n",
    "res[0]"
   ]
  }
 ],
 "metadata": {
  "kernelspec": {
   "display_name": "Python 3",
   "language": "python",
   "name": "python3"
  },
  "language_info": {
   "codemirror_mode": {
    "name": "ipython",
    "version": 3
   },
   "file_extension": ".py",
   "mimetype": "text/x-python",
   "name": "python",
   "nbconvert_exporter": "python",
   "pygments_lexer": "ipython3",
   "version": "3.11.2"
  },
  "orig_nbformat": 4
 },
 "nbformat": 4,
 "nbformat_minor": 2
}
